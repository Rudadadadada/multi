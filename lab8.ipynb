{
 "cells": [
  {
   "cell_type": "markdown",
   "metadata": {},
   "source": [
    "### 1. Выбор начальных условий\n",
    "\n",
    "**a. Выбор набора данных**\n",
    "\n",
    "В данной работе используется датасет Pascal VOC2012, включающий реальные изображения с разметкой объектов по 20 классам с координатами ограничивающих рамок. Этот датасет выбран благодаря своей практической значимости, широкой поддержке в современных фреймворках компьютерного зрения и возможности построения решений для реальных задач детекции, таких как автоматический подсчёт объектов на складе или анализ сцен на дорогах.\n",
    "\n",
    "**b. Выбор метрик качества**\n",
    "\n",
    "Для оценки моделей обнаружения объектов будут использоваться:\n",
    "\n",
    "- **mean Average Precision (mAP)** — интегральная метрика, отражающая качество как локализации, так и классификации объектов, измеряемая при различных порогах IoU.\n",
    "\n",
    "- **Precision и Recall** — характеризуют соотношение между найденными и пропущенными/ошибочно обнаруженными объектами."
   ]
  },
  {
   "cell_type": "markdown",
   "metadata": {},
   "source": [
    "### 2. Создание бейзлайна и оценка качества\n",
    "\n",
    "**a. Обучить модели (сверточную и трансформерную ultralytics)**"
   ]
  },
  {
   "cell_type": "code",
   "execution_count": 5,
   "metadata": {},
   "outputs": [
    {
     "name": "stdout",
     "output_type": "stream",
     "text": [
      "Ultralytics 8.3.130 🚀 Python-3.9.6 torch-2.7.0 MPS (Apple M3 Pro)\n",
      "\u001b[34m\u001b[1mengine/trainer: \u001b[0magnostic_nms=False, amp=True, augment=False, auto_augment=randaugment, batch=16, bgr=0.0, box=7.5, cache=False, cfg=None, classes=None, close_mosaic=10, cls=0.5, conf=None, copy_paste=0.0, copy_paste_mode=flip, cos_lr=False, cutmix=0.0, data=coco128.yaml, degrees=0.0, deterministic=True, device=mps, dfl=1.5, dnn=False, dropout=0.0, dynamic=False, embed=None, epochs=3, erasing=0.4, exist_ok=False, fliplr=0.5, flipud=0.0, format=torchscript, fraction=1.0, freeze=None, half=False, hsv_h=0.015, hsv_s=0.7, hsv_v=0.4, imgsz=640, int8=False, iou=0.7, keras=False, kobj=1.0, line_width=None, lr0=0.01, lrf=0.01, mask_ratio=4, max_det=300, mixup=0.0, mode=train, model=yolov8m.pt, momentum=0.937, mosaic=1.0, multi_scale=False, name=train4, nbs=64, nms=False, opset=None, optimize=False, optimizer=auto, overlap_mask=True, patience=100, perspective=0.0, plots=True, pose=12.0, pretrained=True, profile=False, project=None, rect=False, resume=False, retina_masks=False, save=True, save_conf=False, save_crop=False, save_dir=runs/detect/train4, save_frames=False, save_json=False, save_period=-1, save_txt=False, scale=0.5, seed=0, shear=0.0, show=False, show_boxes=True, show_conf=True, show_labels=True, simplify=True, single_cls=False, source=None, split=val, stream_buffer=False, task=detect, time=None, tracker=botsort.yaml, translate=0.1, val=True, verbose=True, vid_stride=1, visualize=False, warmup_bias_lr=0.1, warmup_epochs=3.0, warmup_momentum=0.8, weight_decay=0.0005, workers=8, workspace=None\n",
      "\n",
      "                   from  n    params  module                                       arguments                     \n",
      "  0                  -1  1      1392  ultralytics.nn.modules.conv.Conv             [3, 48, 3, 2]                 \n",
      "  1                  -1  1     41664  ultralytics.nn.modules.conv.Conv             [48, 96, 3, 2]                \n",
      "  2                  -1  2    111360  ultralytics.nn.modules.block.C2f             [96, 96, 2, True]             \n",
      "  3                  -1  1    166272  ultralytics.nn.modules.conv.Conv             [96, 192, 3, 2]               \n",
      "  4                  -1  4    813312  ultralytics.nn.modules.block.C2f             [192, 192, 4, True]           \n",
      "  5                  -1  1    664320  ultralytics.nn.modules.conv.Conv             [192, 384, 3, 2]              \n",
      "  6                  -1  4   3248640  ultralytics.nn.modules.block.C2f             [384, 384, 4, True]           \n",
      "  7                  -1  1   1991808  ultralytics.nn.modules.conv.Conv             [384, 576, 3, 2]              \n",
      "  8                  -1  2   3985920  ultralytics.nn.modules.block.C2f             [576, 576, 2, True]           \n",
      "  9                  -1  1    831168  ultralytics.nn.modules.block.SPPF            [576, 576, 5]                 \n",
      " 10                  -1  1         0  torch.nn.modules.upsampling.Upsample         [None, 2, 'nearest']          \n",
      " 11             [-1, 6]  1         0  ultralytics.nn.modules.conv.Concat           [1]                           \n",
      " 12                  -1  2   1993728  ultralytics.nn.modules.block.C2f             [960, 384, 2]                 \n",
      " 13                  -1  1         0  torch.nn.modules.upsampling.Upsample         [None, 2, 'nearest']          \n",
      " 14             [-1, 4]  1         0  ultralytics.nn.modules.conv.Concat           [1]                           \n",
      " 15                  -1  2    517632  ultralytics.nn.modules.block.C2f             [576, 192, 2]                 \n",
      " 16                  -1  1    332160  ultralytics.nn.modules.conv.Conv             [192, 192, 3, 2]              \n",
      " 17            [-1, 12]  1         0  ultralytics.nn.modules.conv.Concat           [1]                           \n",
      " 18                  -1  2   1846272  ultralytics.nn.modules.block.C2f             [576, 384, 2]                 \n",
      " 19                  -1  1   1327872  ultralytics.nn.modules.conv.Conv             [384, 384, 3, 2]              \n",
      " 20             [-1, 9]  1         0  ultralytics.nn.modules.conv.Concat           [1]                           \n",
      " 21                  -1  2   4207104  ultralytics.nn.modules.block.C2f             [960, 576, 2]                 \n",
      " 22        [15, 18, 21]  1   3822016  ultralytics.nn.modules.head.Detect           [80, [192, 384, 576]]         \n",
      "Model summary: 169 layers, 25,902,640 parameters, 25,902,624 gradients, 79.3 GFLOPs\n",
      "\n",
      "Transferred 475/475 items from pretrained weights\n",
      "Freezing layer 'model.22.dfl.conv.weight'\n",
      "\u001b[34m\u001b[1mtrain: \u001b[0mFast image access ✅ (ping: 0.0±0.0 ms, read: 471.1±537.1 MB/s, size: 50.9 KB)\n"
     ]
    },
    {
     "name": "stderr",
     "output_type": "stream",
     "text": [
      "\u001b[34m\u001b[1mtrain: \u001b[0mScanning /Users/rudadadadada/multi/datasets/coco128/labels/train2017.cache... 126 images, 2 backgrounds, 0 corrupt: 100%|██████████| 128/128 [00:00<?, ?it/s]"
     ]
    },
    {
     "name": "stdout",
     "output_type": "stream",
     "text": [
      "\u001b[34m\u001b[1mval: \u001b[0mFast image access ✅ (ping: 0.0±0.0 ms, read: 215.9±102.4 MB/s, size: 52.5 KB)\n"
     ]
    },
    {
     "name": "stderr",
     "output_type": "stream",
     "text": [
      "\n",
      "\u001b[34m\u001b[1mval: \u001b[0mScanning /Users/rudadadadada/multi/datasets/coco128/labels/train2017.cache... 126 images, 2 backgrounds, 0 corrupt: 100%|██████████| 128/128 [00:00<?, ?it/s]"
     ]
    },
    {
     "name": "stdout",
     "output_type": "stream",
     "text": [
      "Plotting labels to runs/detect/train4/labels.jpg... \n"
     ]
    },
    {
     "name": "stderr",
     "output_type": "stream",
     "text": [
      "\n"
     ]
    },
    {
     "name": "stdout",
     "output_type": "stream",
     "text": [
      "\u001b[34m\u001b[1moptimizer:\u001b[0m 'optimizer=auto' found, ignoring 'lr0=0.01' and 'momentum=0.937' and determining best 'optimizer', 'lr0' and 'momentum' automatically... \n",
      "\u001b[34m\u001b[1moptimizer:\u001b[0m AdamW(lr=0.000119, momentum=0.9) with parameter groups 77 weight(decay=0.0), 84 weight(decay=0.0005), 83 bias(decay=0.0)\n",
      "Image sizes 640 train, 640 val\n",
      "Using 0 dataloader workers\n",
      "Logging results to \u001b[1mruns/detect/train4\u001b[0m\n",
      "Starting training for 3 epochs...\n",
      "\n",
      "      Epoch    GPU_mem   box_loss   cls_loss   dfl_loss  Instances       Size\n"
     ]
    },
    {
     "name": "stderr",
     "output_type": "stream",
     "text": [
      "        1/3        15G     0.9796     0.9776      1.145        285        640: 100%|██████████| 8/8 [00:20<00:00,  2.55s/it]\n",
      "                 Class     Images  Instances      Box(P          R      mAP50  mAP50-95):   0%|          | 0/4 [00:00<?, ?it/s]"
     ]
    },
    {
     "name": "stdout",
     "output_type": "stream",
     "text": [
      "WARNING ⚠️ NMS time limit 3.600s exceeded\n"
     ]
    },
    {
     "name": "stderr",
     "output_type": "stream",
     "text": [
      "                 Class     Images  Instances      Box(P          R      mAP50  mAP50-95):  25%|██▌       | 1/4 [00:07<00:23,  7.93s/it]"
     ]
    },
    {
     "name": "stdout",
     "output_type": "stream",
     "text": [
      "WARNING ⚠️ NMS time limit 3.600s exceeded\n"
     ]
    },
    {
     "name": "stderr",
     "output_type": "stream",
     "text": [
      "                 Class     Images  Instances      Box(P          R      mAP50  mAP50-95):  50%|█████     | 2/4 [00:20<00:21, 10.56s/it]"
     ]
    },
    {
     "name": "stdout",
     "output_type": "stream",
     "text": [
      "WARNING ⚠️ NMS time limit 3.600s exceeded\n"
     ]
    },
    {
     "name": "stderr",
     "output_type": "stream",
     "text": [
      "                 Class     Images  Instances      Box(P          R      mAP50  mAP50-95):  75%|███████▌  | 3/4 [00:35<00:12, 12.50s/it]"
     ]
    },
    {
     "name": "stdout",
     "output_type": "stream",
     "text": [
      "WARNING ⚠️ NMS time limit 3.600s exceeded\n"
     ]
    },
    {
     "name": "stderr",
     "output_type": "stream",
     "text": [
      "                 Class     Images  Instances      Box(P          R      mAP50  mAP50-95): 100%|██████████| 4/4 [00:46<00:00, 11.61s/it]\n"
     ]
    },
    {
     "name": "stdout",
     "output_type": "stream",
     "text": [
      "                   all        128        929      0.731      0.421      0.447      0.348\n",
      "\n",
      "      Epoch    GPU_mem   box_loss   cls_loss   dfl_loss  Instances       Size\n"
     ]
    },
    {
     "name": "stderr",
     "output_type": "stream",
     "text": [
      "        2/3        14G     0.9609     0.8687      1.163        256        640: 100%|██████████| 8/8 [00:18<00:00,  2.28s/it]\n",
      "                 Class     Images  Instances      Box(P          R      mAP50  mAP50-95):   0%|          | 0/4 [00:00<?, ?it/s]"
     ]
    },
    {
     "name": "stdout",
     "output_type": "stream",
     "text": [
      "WARNING ⚠️ NMS time limit 3.600s exceeded\n"
     ]
    },
    {
     "name": "stderr",
     "output_type": "stream",
     "text": [
      "                 Class     Images  Instances      Box(P          R      mAP50  mAP50-95):  25%|██▌       | 1/4 [00:09<00:27,  9.23s/it]"
     ]
    },
    {
     "name": "stdout",
     "output_type": "stream",
     "text": [
      "WARNING ⚠️ NMS time limit 3.600s exceeded\n"
     ]
    },
    {
     "name": "stderr",
     "output_type": "stream",
     "text": [
      "                 Class     Images  Instances      Box(P          R      mAP50  mAP50-95):  50%|█████     | 2/4 [00:19<00:19,  9.86s/it]"
     ]
    },
    {
     "name": "stdout",
     "output_type": "stream",
     "text": [
      "WARNING ⚠️ NMS time limit 3.600s exceeded\n"
     ]
    },
    {
     "name": "stderr",
     "output_type": "stream",
     "text": [
      "                 Class     Images  Instances      Box(P          R      mAP50  mAP50-95):  75%|███████▌  | 3/4 [00:27<00:09,  9.05s/it]"
     ]
    },
    {
     "name": "stdout",
     "output_type": "stream",
     "text": [
      "WARNING ⚠️ NMS time limit 3.600s exceeded\n"
     ]
    },
    {
     "name": "stderr",
     "output_type": "stream",
     "text": [
      "                 Class     Images  Instances      Box(P          R      mAP50  mAP50-95): 100%|██████████| 4/4 [00:40<00:00, 10.11s/it]\n"
     ]
    },
    {
     "name": "stdout",
     "output_type": "stream",
     "text": [
      "                   all        128        929      0.745      0.339      0.362      0.284\n",
      "\n",
      "      Epoch    GPU_mem   box_loss   cls_loss   dfl_loss  Instances       Size\n"
     ]
    },
    {
     "name": "stderr",
     "output_type": "stream",
     "text": [
      "        3/3        14G      1.042     0.9309      1.196        204        640: 100%|██████████| 8/8 [00:17<00:00,  2.18s/it]\n",
      "                 Class     Images  Instances      Box(P          R      mAP50  mAP50-95):   0%|          | 0/4 [00:00<?, ?it/s]"
     ]
    },
    {
     "name": "stdout",
     "output_type": "stream",
     "text": [
      "WARNING ⚠️ NMS time limit 3.600s exceeded\n"
     ]
    },
    {
     "name": "stderr",
     "output_type": "stream",
     "text": [
      "                 Class     Images  Instances      Box(P          R      mAP50  mAP50-95):  25%|██▌       | 1/4 [00:07<00:23,  7.70s/it]"
     ]
    },
    {
     "name": "stdout",
     "output_type": "stream",
     "text": [
      "WARNING ⚠️ NMS time limit 3.600s exceeded\n"
     ]
    },
    {
     "name": "stderr",
     "output_type": "stream",
     "text": [
      "                 Class     Images  Instances      Box(P          R      mAP50  mAP50-95):  50%|█████     | 2/4 [00:21<00:22, 11.12s/it]"
     ]
    },
    {
     "name": "stdout",
     "output_type": "stream",
     "text": [
      "WARNING ⚠️ NMS time limit 3.600s exceeded\n"
     ]
    },
    {
     "name": "stderr",
     "output_type": "stream",
     "text": [
      "                 Class     Images  Instances      Box(P          R      mAP50  mAP50-95):  75%|███████▌  | 3/4 [00:28<00:09,  9.57s/it]"
     ]
    },
    {
     "name": "stdout",
     "output_type": "stream",
     "text": [
      "WARNING ⚠️ NMS time limit 3.600s exceeded\n"
     ]
    },
    {
     "name": "stderr",
     "output_type": "stream",
     "text": [
      "                 Class     Images  Instances      Box(P          R      mAP50  mAP50-95): 100%|██████████| 4/4 [00:41<00:00, 10.49s/it]\n"
     ]
    },
    {
     "name": "stdout",
     "output_type": "stream",
     "text": [
      "                   all        128        929      0.747      0.344      0.373      0.294\n",
      "\n",
      "3 epochs completed in 0.055 hours.\n",
      "Optimizer stripped from runs/detect/train4/weights/last.pt, 52.1MB\n",
      "Optimizer stripped from runs/detect/train4/weights/best.pt, 52.1MB\n",
      "\n",
      "Validating runs/detect/train4/weights/best.pt...\n",
      "Ultralytics 8.3.130 🚀 Python-3.9.6 torch-2.7.0 MPS (Apple M3 Pro)\n",
      "Model summary (fused): 92 layers, 25,886,080 parameters, 0 gradients, 78.9 GFLOPs\n"
     ]
    },
    {
     "name": "stderr",
     "output_type": "stream",
     "text": [
      "                 Class     Images  Instances      Box(P          R      mAP50  mAP50-95):   0%|          | 0/4 [00:00<?, ?it/s]"
     ]
    },
    {
     "name": "stdout",
     "output_type": "stream",
     "text": [
      "WARNING ⚠️ NMS time limit 3.600s exceeded\n"
     ]
    },
    {
     "name": "stderr",
     "output_type": "stream",
     "text": [
      "                 Class     Images  Instances      Box(P          R      mAP50  mAP50-95):  25%|██▌       | 1/4 [00:10<00:32, 10.97s/it]"
     ]
    },
    {
     "name": "stdout",
     "output_type": "stream",
     "text": [
      "WARNING ⚠️ NMS time limit 3.600s exceeded\n"
     ]
    },
    {
     "name": "stderr",
     "output_type": "stream",
     "text": [
      "                 Class     Images  Instances      Box(P          R      mAP50  mAP50-95):  50%|█████     | 2/4 [00:27<00:28, 14.44s/it]"
     ]
    },
    {
     "name": "stdout",
     "output_type": "stream",
     "text": [
      "WARNING ⚠️ NMS time limit 3.600s exceeded\n"
     ]
    },
    {
     "name": "stderr",
     "output_type": "stream",
     "text": [
      "                 Class     Images  Instances      Box(P          R      mAP50  mAP50-95):  75%|███████▌  | 3/4 [00:42<00:14, 14.43s/it]"
     ]
    },
    {
     "name": "stdout",
     "output_type": "stream",
     "text": [
      "WARNING ⚠️ NMS time limit 3.600s exceeded\n"
     ]
    },
    {
     "name": "stderr",
     "output_type": "stream",
     "text": [
      "                 Class     Images  Instances      Box(P          R      mAP50  mAP50-95): 100%|██████████| 4/4 [00:51<00:00, 12.93s/it]\n"
     ]
    },
    {
     "name": "stdout",
     "output_type": "stream",
     "text": [
      "                   all        128        929      0.732      0.335      0.364      0.281\n",
      "                person         61        254      0.818      0.382      0.466      0.345\n",
      "               bicycle          3          6      0.606      0.167      0.257       0.18\n",
      "                   car         12         46      0.741      0.187       0.27      0.139\n",
      "            motorcycle          4          5      0.643        0.6      0.559      0.438\n",
      "              airplane          5          6      0.894      0.833      0.861      0.811\n",
      "                   bus          5          7      0.592      0.222      0.315      0.256\n",
      "                 train          3          3          1          0          0          0\n",
      "                 truck          5         12      0.689      0.333      0.411      0.229\n",
      "                  boat          2          6          1          0          0          0\n",
      "         traffic light          4         14       0.82      0.329      0.476      0.285\n",
      "             stop sign          2          2          1          0          0          0\n",
      "                 bench          5          9      0.745      0.222      0.265      0.124\n",
      "                  bird          2         16          1          0          0          0\n",
      "                   cat          4          4      0.611       0.25      0.292      0.292\n",
      "                   dog          9          9      0.518      0.222      0.244      0.185\n",
      "                 horse          1          2      0.744          1      0.995      0.701\n",
      "              elephant          4         17      0.922      0.529      0.549      0.487\n",
      "                  bear          1          1          1          0          0          0\n",
      "                 zebra          2          4      0.616       0.25      0.321      0.321\n",
      "               giraffe          4          9      0.893      0.778      0.788      0.672\n",
      "              backpack          4          6      0.732      0.465      0.463       0.31\n",
      "              umbrella          4         18      0.611      0.111      0.155      0.124\n",
      "               handbag          9         19      0.819      0.158      0.191      0.136\n",
      "                   tie          6          7      0.832      0.429      0.448      0.372\n",
      "              suitcase          2          4          1          0          0          0\n",
      "               frisbee          5          5      0.617        0.2       0.24       0.24\n",
      "                  skis          1          1      0.455          1      0.995      0.995\n",
      "             snowboard          2          7      0.664      0.857      0.887      0.654\n",
      "           sports ball          6          6      0.721        0.5      0.515      0.328\n",
      "                  kite          2         10      0.799      0.398      0.414     0.0903\n",
      "          baseball bat          4          4      0.583       0.75      0.673      0.363\n",
      "        baseball glove          4          7      0.496      0.286      0.321      0.165\n",
      "            skateboard          3          5      0.594      0.313      0.358      0.136\n",
      "         tennis racket          5          7      0.748      0.286      0.299      0.188\n",
      "                bottle          6         18      0.627      0.556      0.597      0.385\n",
      "            wine glass          5         16      0.527      0.419       0.56      0.336\n",
      "                   cup         10         36          1      0.272      0.386      0.198\n",
      "                  fork          6          6      0.656      0.333       0.24       0.12\n",
      "                 knife          7         16      0.761      0.438      0.439      0.362\n",
      "                 spoon          5         22       0.74      0.318      0.346      0.279\n",
      "                  bowl          9         28      0.739      0.536      0.587      0.522\n",
      "                banana          1          1          1          0          0          0\n",
      "              sandwich          2          2          1          0          0          0\n",
      "                orange          1          4          1          0          0          0\n",
      "              broccoli          4         11      0.174     0.0633      0.128     0.0796\n",
      "                carrot          3         24      0.761      0.667        0.7      0.478\n",
      "               hot dog          1          2          1          0          0          0\n",
      "                 pizza          5          5      0.583        0.8      0.803      0.651\n",
      "                 donut          2         14          1          0          0          0\n",
      "                  cake          4          4      0.624       0.25       0.27       0.27\n",
      "                 chair          9         35      0.493      0.514       0.43      0.265\n",
      "                 couch          5          6      0.608      0.167      0.179      0.179\n",
      "          potted plant          9         14      0.705      0.286       0.33      0.294\n",
      "                   bed          3          3      0.597      0.333      0.352      0.352\n",
      "          dining table         10         13      0.399      0.231      0.251      0.183\n",
      "                toilet          2          2      0.723          1      0.995      0.995\n",
      "                    tv          2          2      0.553        0.5      0.516      0.465\n",
      "                laptop          2          3      0.837      0.667      0.696      0.663\n",
      "                 mouse          2          2          1          0      0.201      0.181\n",
      "                remote          5          8      0.736       0.25       0.27      0.256\n",
      "            cell phone          5          8      0.572      0.125      0.138      0.111\n",
      "             microwave          3          3      0.748      0.667      0.684      0.566\n",
      "                  oven          5          5       0.52        0.4      0.423      0.312\n",
      "                  sink          4          6      0.186      0.167      0.176      0.176\n",
      "          refrigerator          5          5      0.547        0.4      0.461      0.444\n",
      "                  book          6         29      0.542      0.172      0.272       0.17\n",
      "                 clock          8          9          1      0.429      0.465      0.337\n",
      "                  vase          2          2      0.512        0.5      0.501      0.451\n",
      "              scissors          1          1          1          0          0          0\n",
      "            teddy bear          6         21          1      0.284      0.417      0.316\n",
      "            toothbrush          2          5          1          0          0          0\n",
      "Speed: 1.5ms preprocess, 32.3ms inference, 0.0ms loss, 130.9ms postprocess per image\n",
      "Results saved to \u001b[1mruns/detect/train4\u001b[0m\n",
      "Ultralytics 8.3.130 🚀 Python-3.9.6 torch-2.7.0 MPS (Apple M3 Pro)\n",
      "\u001b[34m\u001b[1mengine/trainer: \u001b[0magnostic_nms=False, amp=True, augment=False, auto_augment=randaugment, batch=16, bgr=0.0, box=7.5, cache=False, cfg=None, classes=None, close_mosaic=10, cls=0.5, conf=None, copy_paste=0.0, copy_paste_mode=flip, cos_lr=False, cutmix=0.0, data=coco128.yaml, degrees=0.0, deterministic=True, device=mps, dfl=1.5, dnn=False, dropout=0.0, dynamic=False, embed=None, epochs=3, erasing=0.4, exist_ok=False, fliplr=0.5, flipud=0.0, format=torchscript, fraction=1.0, freeze=None, half=False, hsv_h=0.015, hsv_s=0.7, hsv_v=0.4, imgsz=640, int8=False, iou=0.7, keras=False, kobj=1.0, line_width=None, lr0=0.01, lrf=0.01, mask_ratio=4, max_det=300, mixup=0.0, mode=train, model=yolov8x.pt, momentum=0.937, mosaic=1.0, multi_scale=False, name=train5, nbs=64, nms=False, opset=None, optimize=False, optimizer=auto, overlap_mask=True, patience=100, perspective=0.0, plots=True, pose=12.0, pretrained=True, profile=False, project=None, rect=False, resume=False, retina_masks=False, save=True, save_conf=False, save_crop=False, save_dir=runs/detect/train5, save_frames=False, save_json=False, save_period=-1, save_txt=False, scale=0.5, seed=0, shear=0.0, show=False, show_boxes=True, show_conf=True, show_labels=True, simplify=True, single_cls=False, source=None, split=val, stream_buffer=False, task=detect, time=None, tracker=botsort.yaml, translate=0.1, val=True, verbose=True, vid_stride=1, visualize=False, warmup_bias_lr=0.1, warmup_epochs=3.0, warmup_momentum=0.8, weight_decay=0.0005, workers=8, workspace=None\n",
      "\n",
      "                   from  n    params  module                                       arguments                     \n",
      "  0                  -1  1      2320  ultralytics.nn.modules.conv.Conv             [3, 80, 3, 2]                 \n",
      "  1                  -1  1    115520  ultralytics.nn.modules.conv.Conv             [80, 160, 3, 2]               \n",
      "  2                  -1  3    436800  ultralytics.nn.modules.block.C2f             [160, 160, 3, True]           \n",
      "  3                  -1  1    461440  ultralytics.nn.modules.conv.Conv             [160, 320, 3, 2]              \n",
      "  4                  -1  6   3281920  ultralytics.nn.modules.block.C2f             [320, 320, 6, True]           \n",
      "  5                  -1  1   1844480  ultralytics.nn.modules.conv.Conv             [320, 640, 3, 2]              \n",
      "  6                  -1  6  13117440  ultralytics.nn.modules.block.C2f             [640, 640, 6, True]           \n",
      "  7                  -1  1   3687680  ultralytics.nn.modules.conv.Conv             [640, 640, 3, 2]              \n",
      "  8                  -1  3   6969600  ultralytics.nn.modules.block.C2f             [640, 640, 3, True]           \n",
      "  9                  -1  1   1025920  ultralytics.nn.modules.block.SPPF            [640, 640, 5]                 \n",
      " 10                  -1  1         0  torch.nn.modules.upsampling.Upsample         [None, 2, 'nearest']          \n",
      " 11             [-1, 6]  1         0  ultralytics.nn.modules.conv.Concat           [1]                           \n",
      " 12                  -1  3   7379200  ultralytics.nn.modules.block.C2f             [1280, 640, 3]                \n",
      " 13                  -1  1         0  torch.nn.modules.upsampling.Upsample         [None, 2, 'nearest']          \n",
      " 14             [-1, 4]  1         0  ultralytics.nn.modules.conv.Concat           [1]                           \n",
      " 15                  -1  3   1948800  ultralytics.nn.modules.block.C2f             [960, 320, 3]                 \n",
      " 16                  -1  1    922240  ultralytics.nn.modules.conv.Conv             [320, 320, 3, 2]              \n",
      " 17            [-1, 12]  1         0  ultralytics.nn.modules.conv.Concat           [1]                           \n",
      " 18                  -1  3   7174400  ultralytics.nn.modules.block.C2f             [960, 640, 3]                 \n",
      " 19                  -1  1   3687680  ultralytics.nn.modules.conv.Conv             [640, 640, 3, 2]              \n",
      " 20             [-1, 9]  1         0  ultralytics.nn.modules.conv.Concat           [1]                           \n",
      " 21                  -1  3   7379200  ultralytics.nn.modules.block.C2f             [1280, 640, 3]                \n",
      " 22        [15, 18, 21]  1   8795008  ultralytics.nn.modules.head.Detect           [80, [320, 640, 640]]         \n",
      "Model summary: 209 layers, 68,229,648 parameters, 68,229,632 gradients, 258.5 GFLOPs\n",
      "\n",
      "Transferred 595/595 items from pretrained weights\n",
      "Freezing layer 'model.22.dfl.conv.weight'\n",
      "\u001b[34m\u001b[1mtrain: \u001b[0mFast image access ✅ (ping: 0.0±0.0 ms, read: 1530.3±1238.7 MB/s, size: 50.9 KB)\n"
     ]
    },
    {
     "name": "stderr",
     "output_type": "stream",
     "text": [
      "\u001b[34m\u001b[1mtrain: \u001b[0mScanning /Users/rudadadadada/multi/datasets/coco128/labels/train2017.cache... 126 images, 2 backgrounds, 0 corrupt: 100%|██████████| 128/128 [00:00<?, ?it/s]"
     ]
    },
    {
     "name": "stdout",
     "output_type": "stream",
     "text": [
      "\u001b[34m\u001b[1mval: \u001b[0mFast image access ✅ (ping: 0.0±0.0 ms, read: 1696.9±759.0 MB/s, size: 52.5 KB)\n"
     ]
    },
    {
     "name": "stderr",
     "output_type": "stream",
     "text": [
      "\n",
      "\u001b[34m\u001b[1mval: \u001b[0mScanning /Users/rudadadadada/multi/datasets/coco128/labels/train2017.cache... 126 images, 2 backgrounds, 0 corrupt: 100%|██████████| 128/128 [00:00<?, ?it/s]"
     ]
    },
    {
     "name": "stdout",
     "output_type": "stream",
     "text": [
      "Plotting labels to runs/detect/train5/labels.jpg... \n"
     ]
    },
    {
     "name": "stderr",
     "output_type": "stream",
     "text": [
      "\n"
     ]
    },
    {
     "name": "stdout",
     "output_type": "stream",
     "text": [
      "\u001b[34m\u001b[1moptimizer:\u001b[0m 'optimizer=auto' found, ignoring 'lr0=0.01' and 'momentum=0.937' and determining best 'optimizer', 'lr0' and 'momentum' automatically... \n",
      "\u001b[34m\u001b[1moptimizer:\u001b[0m AdamW(lr=0.000119, momentum=0.9) with parameter groups 97 weight(decay=0.0), 104 weight(decay=0.0005), 103 bias(decay=0.0)\n",
      "Image sizes 640 train, 640 val\n",
      "Using 0 dataloader workers\n",
      "Logging results to \u001b[1mruns/detect/train5\u001b[0m\n",
      "Starting training for 3 epochs...\n",
      "\n",
      "      Epoch    GPU_mem   box_loss   cls_loss   dfl_loss  Instances       Size\n"
     ]
    },
    {
     "name": "stderr",
     "output_type": "stream",
     "text": [
      "        1/3      28.9G     0.8944     0.7775       1.13        285        640: 100%|██████████| 8/8 [01:54<00:00, 14.26s/it]\n",
      "                 Class     Images  Instances      Box(P          R      mAP50  mAP50-95):   0%|          | 0/4 [00:00<?, ?it/s]"
     ]
    },
    {
     "name": "stdout",
     "output_type": "stream",
     "text": [
      "WARNING ⚠️ NMS time limit 3.600s exceeded\n"
     ]
    },
    {
     "name": "stderr",
     "output_type": "stream",
     "text": [
      "                 Class     Images  Instances      Box(P          R      mAP50  mAP50-95):  25%|██▌       | 1/4 [00:45<02:15, 45.07s/it]"
     ]
    },
    {
     "name": "stdout",
     "output_type": "stream",
     "text": [
      "WARNING ⚠️ NMS time limit 3.600s exceeded\n"
     ]
    },
    {
     "name": "stderr",
     "output_type": "stream",
     "text": [
      "                 Class     Images  Instances      Box(P          R      mAP50  mAP50-95):  50%|█████     | 2/4 [01:22<01:20, 40.45s/it]"
     ]
    },
    {
     "name": "stdout",
     "output_type": "stream",
     "text": [
      "WARNING ⚠️ NMS time limit 3.600s exceeded\n"
     ]
    },
    {
     "name": "stderr",
     "output_type": "stream",
     "text": [
      "                 Class     Images  Instances      Box(P          R      mAP50  mAP50-95):  75%|███████▌  | 3/4 [03:26<01:18, 78.78s/it]"
     ]
    },
    {
     "name": "stdout",
     "output_type": "stream",
     "text": [
      "WARNING ⚠️ NMS time limit 3.600s exceeded\n"
     ]
    },
    {
     "name": "stderr",
     "output_type": "stream",
     "text": [
      "                 Class     Images  Instances      Box(P          R      mAP50  mAP50-95): 100%|██████████| 4/4 [05:32<00:00, 83.10s/it]\n"
     ]
    },
    {
     "name": "stdout",
     "output_type": "stream",
     "text": [
      "                   all        128        929      0.712     0.0743      0.101     0.0798\n",
      "\n",
      "      Epoch    GPU_mem   box_loss   cls_loss   dfl_loss  Instances       Size\n"
     ]
    },
    {
     "name": "stderr",
     "output_type": "stream",
     "text": [
      "        2/3      28.3G     0.9173     0.7261      1.167        256        640: 100%|██████████| 8/8 [01:06<00:00,  8.26s/it]\n",
      "                 Class     Images  Instances      Box(P          R      mAP50  mAP50-95):   0%|          | 0/4 [00:00<?, ?it/s]"
     ]
    },
    {
     "name": "stdout",
     "output_type": "stream",
     "text": [
      "WARNING ⚠️ NMS time limit 3.600s exceeded\n"
     ]
    },
    {
     "name": "stderr",
     "output_type": "stream",
     "text": [
      "                 Class     Images  Instances      Box(P          R      mAP50  mAP50-95):  25%|██▌       | 1/4 [00:18<00:54, 18.26s/it]"
     ]
    },
    {
     "name": "stdout",
     "output_type": "stream",
     "text": [
      "WARNING ⚠️ NMS time limit 3.600s exceeded\n"
     ]
    },
    {
     "name": "stderr",
     "output_type": "stream",
     "text": [
      "                 Class     Images  Instances      Box(P          R      mAP50  mAP50-95):  50%|█████     | 2/4 [00:36<00:37, 18.51s/it]"
     ]
    },
    {
     "name": "stdout",
     "output_type": "stream",
     "text": [
      "WARNING ⚠️ NMS time limit 3.600s exceeded\n"
     ]
    },
    {
     "name": "stderr",
     "output_type": "stream",
     "text": [
      "                 Class     Images  Instances      Box(P          R      mAP50  mAP50-95):  75%|███████▌  | 3/4 [01:26<00:32, 32.87s/it]"
     ]
    },
    {
     "name": "stdout",
     "output_type": "stream",
     "text": [
      "WARNING ⚠️ NMS time limit 3.600s exceeded\n"
     ]
    },
    {
     "name": "stderr",
     "output_type": "stream",
     "text": [
      "                 Class     Images  Instances      Box(P          R      mAP50  mAP50-95): 100%|██████████| 4/4 [02:23<00:00, 35.84s/it]\n"
     ]
    },
    {
     "name": "stdout",
     "output_type": "stream",
     "text": [
      "                   all        128        929      0.745      0.105      0.134       0.11\n",
      "\n",
      "      Epoch    GPU_mem   box_loss   cls_loss   dfl_loss  Instances       Size\n"
     ]
    },
    {
     "name": "stderr",
     "output_type": "stream",
     "text": [
      "        3/3      29.6G     0.9467     0.7386      1.165        204        640: 100%|██████████| 8/8 [03:02<00:00, 22.83s/it]\n",
      "                 Class     Images  Instances      Box(P          R      mAP50  mAP50-95):   0%|          | 0/4 [00:00<?, ?it/s]"
     ]
    },
    {
     "name": "stdout",
     "output_type": "stream",
     "text": [
      "WARNING ⚠️ NMS time limit 3.600s exceeded\n"
     ]
    },
    {
     "name": "stderr",
     "output_type": "stream",
     "text": [
      "                 Class     Images  Instances      Box(P          R      mAP50  mAP50-95):  25%|██▌       | 1/4 [00:45<02:15, 45.23s/it]"
     ]
    },
    {
     "name": "stdout",
     "output_type": "stream",
     "text": [
      "WARNING ⚠️ NMS time limit 3.600s exceeded\n"
     ]
    },
    {
     "name": "stderr",
     "output_type": "stream",
     "text": [
      "                 Class     Images  Instances      Box(P          R      mAP50  mAP50-95):  50%|█████     | 2/4 [01:19<01:17, 38.94s/it]"
     ]
    },
    {
     "name": "stdout",
     "output_type": "stream",
     "text": [
      "WARNING ⚠️ NMS time limit 3.600s exceeded\n"
     ]
    },
    {
     "name": "stderr",
     "output_type": "stream",
     "text": [
      "                 Class     Images  Instances      Box(P          R      mAP50  mAP50-95):  75%|███████▌  | 3/4 [02:19<00:48, 48.22s/it]"
     ]
    },
    {
     "name": "stdout",
     "output_type": "stream",
     "text": [
      "WARNING ⚠️ NMS time limit 3.600s exceeded\n"
     ]
    },
    {
     "name": "stderr",
     "output_type": "stream",
     "text": [
      "                 Class     Images  Instances      Box(P          R      mAP50  mAP50-95): 100%|██████████| 4/4 [03:38<00:00, 54.66s/it]\n"
     ]
    },
    {
     "name": "stdout",
     "output_type": "stream",
     "text": [
      "                   all        128        929       0.74      0.106      0.136       0.11\n",
      "\n",
      "3 epochs completed in 0.319 hours.\n",
      "Optimizer stripped from runs/detect/train5/weights/last.pt, 136.9MB\n",
      "Optimizer stripped from runs/detect/train5/weights/best.pt, 136.9MB\n",
      "\n",
      "Validating runs/detect/train5/weights/best.pt...\n",
      "Ultralytics 8.3.130 🚀 Python-3.9.6 torch-2.7.0 MPS (Apple M3 Pro)\n",
      "Model summary (fused): 112 layers, 68,200,608 parameters, 0 gradients, 257.8 GFLOPs\n"
     ]
    },
    {
     "name": "stderr",
     "output_type": "stream",
     "text": [
      "                 Class     Images  Instances      Box(P          R      mAP50  mAP50-95):   0%|          | 0/4 [00:00<?, ?it/s]"
     ]
    },
    {
     "name": "stdout",
     "output_type": "stream",
     "text": [
      "WARNING ⚠️ NMS time limit 3.600s exceeded\n"
     ]
    },
    {
     "name": "stderr",
     "output_type": "stream",
     "text": [
      "                 Class     Images  Instances      Box(P          R      mAP50  mAP50-95):  25%|██▌       | 1/4 [00:18<00:55, 18.42s/it]"
     ]
    },
    {
     "name": "stdout",
     "output_type": "stream",
     "text": [
      "WARNING ⚠️ NMS time limit 3.600s exceeded\n"
     ]
    },
    {
     "name": "stderr",
     "output_type": "stream",
     "text": [
      "                 Class     Images  Instances      Box(P          R      mAP50  mAP50-95):  50%|█████     | 2/4 [00:36<00:36, 18.34s/it]"
     ]
    },
    {
     "name": "stdout",
     "output_type": "stream",
     "text": [
      "WARNING ⚠️ NMS time limit 3.600s exceeded\n"
     ]
    },
    {
     "name": "stderr",
     "output_type": "stream",
     "text": [
      "                 Class     Images  Instances      Box(P          R      mAP50  mAP50-95):  75%|███████▌  | 3/4 [01:18<00:28, 28.83s/it]"
     ]
    },
    {
     "name": "stdout",
     "output_type": "stream",
     "text": [
      "WARNING ⚠️ NMS time limit 3.600s exceeded\n"
     ]
    },
    {
     "name": "stderr",
     "output_type": "stream",
     "text": [
      "                 Class     Images  Instances      Box(P          R      mAP50  mAP50-95): 100%|██████████| 4/4 [01:37<00:00, 24.27s/it]\n"
     ]
    },
    {
     "name": "stdout",
     "output_type": "stream",
     "text": [
      "                   all        128        929      0.838       0.13      0.158      0.128\n",
      "                person         61        254       0.98      0.192      0.293      0.214\n",
      "               bicycle          3          6          1      0.237      0.349       0.22\n",
      "                   car         12         46          1          0     0.0188    0.00475\n",
      "            motorcycle          4          5      0.865        0.6      0.616      0.494\n",
      "              airplane          5          6      0.766      0.167       0.27      0.243\n",
      "                   bus          5          7          1      0.143      0.571      0.514\n",
      "                 train          3          3          0          0          0          0\n",
      "                 truck          5         12          1          0          0          0\n",
      "                  boat          2          6          1          0          0          0\n",
      "         traffic light          4         14          1          0          0          0\n",
      "             stop sign          2          2          1          0          0          0\n",
      "                 bench          5          9          1          0          0          0\n",
      "                  bird          2         16          1          0          0          0\n",
      "                   cat          4          4          1          0          0          0\n",
      "                   dog          9          9          1          0          0          0\n",
      "                 horse          1          2      0.854          1      0.995      0.805\n",
      "              elephant          4         17      0.942      0.529      0.556       0.49\n",
      "                  bear          1          1          1          0          0          0\n",
      "                 zebra          2          4          1          0          0          0\n",
      "               giraffe          4          9          1          0          0          0\n",
      "              backpack          4          6          1          0          0          0\n",
      "              umbrella          4         18      0.735     0.0556      0.123      0.123\n",
      "               handbag          9         19      0.861      0.105      0.146      0.139\n",
      "                   tie          6          7      0.831      0.286       0.35        0.3\n",
      "              suitcase          2          4          1          0          0          0\n",
      "               frisbee          5          5          1          0          0          0\n",
      "                  skis          1          1          1          0          0          0\n",
      "             snowboard          2          7          1      0.775      0.876      0.755\n",
      "           sports ball          6          6      0.789        0.5      0.526      0.364\n",
      "                  kite          2         10      0.863        0.3      0.366     0.0911\n",
      "          baseball bat          4          4      0.661        0.5      0.542      0.362\n",
      "        baseball glove          4          7      0.767      0.286      0.388      0.237\n",
      "            skateboard          3          5          1          0          0          0\n",
      "         tennis racket          5          7      0.842      0.286      0.365      0.294\n",
      "                bottle          6         18          1          0          0          0\n",
      "            wine glass          5         16          1          0          0          0\n",
      "                   cup         10         36          1     0.0776      0.144      0.104\n",
      "                  fork          6          6      0.425      0.167      0.182      0.164\n",
      "                 knife          7         16      0.845     0.0625     0.0836     0.0502\n",
      "                 spoon          5         22          1          0          0          0\n",
      "                  bowl          9         28      0.756     0.0357     0.0453     0.0362\n",
      "                banana          1          1          1          0          0          0\n",
      "              sandwich          2          2          1          0          0          0\n",
      "                orange          1          4          1          0          0          0\n",
      "              broccoli          4         11          0          0          0          0\n",
      "                carrot          3         24          0          0          0          0\n",
      "               hot dog          1          2          0          0          0          0\n",
      "                 pizza          5          5      0.749        0.2      0.263      0.236\n",
      "                 donut          2         14          1          0          0          0\n",
      "                  cake          4          4      0.741       0.25      0.308      0.308\n",
      "                 chair          9         35      0.896      0.457      0.477      0.348\n",
      "                 couch          5          6          1          0          0          0\n",
      "          potted plant          9         14       0.83      0.143      0.192      0.179\n",
      "                   bed          3          3          1          0          0          0\n",
      "          dining table         10         13          1      0.148      0.256      0.208\n",
      "                toilet          2          2      0.674        0.5      0.531      0.531\n",
      "                    tv          2          2          0          0          0          0\n",
      "                laptop          2          3          1          0          0          0\n",
      "                 mouse          2          2          1          0          0          0\n",
      "                remote          5          8          1          0          0          0\n",
      "            cell phone          5          8          1          0          0          0\n",
      "             microwave          3          3          1          0          0          0\n",
      "                  oven          5          5      0.752        0.2      0.217      0.152\n",
      "                  sink          4          6          1          0          0          0\n",
      "          refrigerator          5          5      0.665        0.2      0.219      0.219\n",
      "                  book          6         29          1          0          0          0\n",
      "                 clock          8          9      0.764      0.111      0.164      0.131\n",
      "                  vase          2          2      0.745        0.5      0.527      0.527\n",
      "              scissors          1          1          0          0          0          0\n",
      "            teddy bear          6         21      0.928       0.19      0.254      0.214\n",
      "            toothbrush          2          5          1          0          0          0\n",
      "Speed: 3.3ms preprocess, 377.9ms inference, 0.0ms loss, 146.8ms postprocess per image\n",
      "Results saved to \u001b[1mruns/detect/train5\u001b[0m\n"
     ]
    }
   ],
   "source": [
    "from ultralytics import YOLO\n",
    "\n",
    "data = 'coco128.yaml'\n",
    "\n",
    "# сверточная\n",
    "cnn_model = YOLO('yolov8m.pt')\n",
    "results_cnn = cnn_model.train(data=data, epochs=3, imgsz=640, device=\"mps\")\n",
    "\n",
    "# трансформерная\n",
    "transformer_model = YOLO('yolov8x.pt')  # или, если появится, yolov11-transformer.pt\n",
    "results_transformer = transformer_model.train(data=data, epochs=3, imgsz=640, device=\"mps\")"
   ]
  },
  {
   "cell_type": "markdown",
   "metadata": {},
   "source": [
    "**b. Оценка метрик после обучения**"
   ]
  },
  {
   "cell_type": "code",
   "execution_count": 33,
   "metadata": {},
   "outputs": [
    {
     "name": "stdout",
     "output_type": "stream",
     "text": [
      "Ultralytics 8.3.130 🚀 Python-3.9.6 torch-2.7.0 MPS (Apple M3 Pro)\n",
      "\u001b[34m\u001b[1mval: \u001b[0mFast image access ✅ (ping: 0.0±0.0 ms, read: 238.7±107.3 MB/s, size: 65.7 KB)\n"
     ]
    },
    {
     "name": "stderr",
     "output_type": "stream",
     "text": [
      "\u001b[34m\u001b[1mval: \u001b[0mScanning /Users/rudadadadada/multi/datasets/coco128/labels/train2017.cache... 126 images, 2 backgrounds, 0 corrupt: 100%|██████████| 128/128 [00:00<?, ?it/s]\n",
      "                 Class     Images  Instances      Box(P          R      mAP50  mAP50-95):  38%|███▊      | 3/8 [00:10<00:17,  3.51s/it]"
     ]
    },
    {
     "name": "stdout",
     "output_type": "stream",
     "text": [
      "WARNING ⚠️ NMS time limit 2.800s exceeded\n"
     ]
    },
    {
     "name": "stderr",
     "output_type": "stream",
     "text": [
      "                 Class     Images  Instances      Box(P          R      mAP50  mAP50-95):  50%|█████     | 4/8 [00:18<00:21,  5.31s/it]"
     ]
    },
    {
     "name": "stdout",
     "output_type": "stream",
     "text": [
      "WARNING ⚠️ NMS time limit 2.800s exceeded\n"
     ]
    },
    {
     "name": "stderr",
     "output_type": "stream",
     "text": [
      "                 Class     Images  Instances      Box(P          R      mAP50  mAP50-95):  88%|████████▊ | 7/8 [00:38<00:05,  5.64s/it]"
     ]
    },
    {
     "name": "stdout",
     "output_type": "stream",
     "text": [
      "WARNING ⚠️ NMS time limit 2.800s exceeded\n"
     ]
    },
    {
     "name": "stderr",
     "output_type": "stream",
     "text": [
      "                 Class     Images  Instances      Box(P          R      mAP50  mAP50-95): 100%|██████████| 8/8 [00:47<00:00,  5.95s/it]\n"
     ]
    },
    {
     "name": "stdout",
     "output_type": "stream",
     "text": [
      "                   all        128        929      0.767      0.672      0.744      0.581\n",
      "                person         61        254      0.898      0.717      0.843      0.643\n",
      "               bicycle          3          6      0.896        0.5      0.711       0.52\n",
      "                   car         12         46      0.832      0.323      0.513      0.301\n",
      "            motorcycle          4          5      0.773          1      0.962      0.805\n",
      "              airplane          5          6      0.832          1      0.995      0.928\n",
      "                   bus          5          7      0.782      0.714      0.867       0.75\n",
      "                 train          3          3      0.777      0.667      0.668      0.668\n",
      "                 truck          5         12      0.749        0.5      0.615      0.352\n",
      "                  boat          2          6      0.803        0.5      0.709      0.552\n",
      "         traffic light          4         14      0.794      0.278      0.479      0.279\n",
      "             stop sign          2          2       0.77          1      0.995      0.922\n",
      "                 bench          5          9      0.848      0.624      0.754      0.443\n",
      "                  bird          2         16       0.94      0.975      0.991      0.663\n",
      "                   cat          4          4      0.845          1      0.995      0.904\n",
      "                   dog          9          9      0.694      0.889      0.878       0.76\n",
      "                 horse          1          2      0.764          1      0.995        0.7\n",
      "              elephant          4         17      0.953      0.941      0.951      0.837\n",
      "                  bear          1          1      0.642          1      0.995      0.796\n",
      "                 zebra          2          4      0.864          1      0.995      0.974\n",
      "               giraffe          4          9      0.926          1      0.995      0.766\n",
      "              backpack          4          6      0.784      0.613       0.78      0.455\n",
      "              umbrella          4         18      0.855      0.984      0.976      0.669\n",
      "               handbag          9         19          1      0.303      0.507      0.322\n",
      "                   tie          6          7      0.894      0.714      0.824      0.621\n",
      "              suitcase          2          4      0.903          1      0.995      0.649\n",
      "               frisbee          5          5      0.679        0.6      0.613      0.553\n",
      "                  skis          1          1      0.559          1      0.995      0.995\n",
      "             snowboard          2          7      0.792      0.857      0.891      0.643\n",
      "           sports ball          6          6      0.707      0.667      0.667       0.46\n",
      "                  kite          2         10      0.641        0.3      0.524      0.138\n",
      "          baseball bat          4          4      0.558      0.644      0.542      0.246\n",
      "        baseball glove          4          7       0.64      0.429      0.459      0.294\n",
      "            skateboard          3          5      0.698        0.4      0.815      0.471\n",
      "         tennis racket          5          7      0.896      0.571      0.581      0.303\n",
      "                bottle          6         18      0.689      0.667      0.658      0.458\n",
      "            wine glass          5         16      0.681        0.5      0.752      0.534\n",
      "                   cup         10         36      0.948       0.51      0.667      0.464\n",
      "                  fork          6          6      0.735      0.471      0.638      0.427\n",
      "                 knife          7         16      0.801      0.625      0.781      0.542\n",
      "                 spoon          5         22      0.829      0.661      0.728      0.556\n",
      "                  bowl          9         28       0.84       0.75      0.784      0.698\n",
      "                banana          1          1      0.511          1      0.995      0.995\n",
      "              sandwich          2          2          1          0      0.503      0.503\n",
      "                orange          1          4          1       0.57      0.945      0.733\n",
      "              broccoli          4         11      0.436      0.182      0.375      0.293\n",
      "                carrot          3         24      0.639      0.583      0.706      0.509\n",
      "               hot dog          1          2          1          0          0          0\n",
      "                 pizza          5          5      0.704          1      0.995       0.85\n",
      "                 donut          2         14      0.724          1      0.971      0.892\n",
      "                  cake          4          4      0.755       0.75      0.752      0.685\n",
      "                 chair          9         35      0.553      0.657      0.641      0.419\n",
      "                 couch          5          6      0.833      0.833      0.927      0.771\n",
      "          potted plant          9         14      0.959      0.643      0.706      0.511\n",
      "                   bed          3          3      0.798      0.667      0.671      0.621\n",
      "          dining table         10         13      0.643      0.692      0.695      0.537\n",
      "                toilet          2          2      0.758          1      0.995      0.995\n",
      "                    tv          2          2      0.642          1      0.995      0.846\n",
      "                laptop          2          3      0.618      0.667      0.519      0.479\n",
      "                 mouse          2          2          1          0      0.308        0.1\n",
      "                remote          5          8      0.982      0.625      0.698      0.642\n",
      "            cell phone          5          8      0.648      0.625      0.561       0.36\n",
      "             microwave          3          3      0.526          1      0.995      0.802\n",
      "                  oven          5          5      0.413        0.4      0.392      0.298\n",
      "                  sink          4          6       0.53        0.5      0.424      0.364\n",
      "          refrigerator          5          5       0.65      0.751      0.769      0.597\n",
      "                  book          6         29      0.651      0.321      0.462       0.29\n",
      "                 clock          8          9      0.653      0.889       0.91      0.749\n",
      "                  vase          2          2      0.425          1      0.995       0.92\n",
      "              scissors          1          1          1          0     0.0765      0.023\n",
      "            teddy bear          6         21      0.872      0.476      0.774      0.547\n",
      "            toothbrush          2          5          1       0.96      0.995      0.841\n",
      "Speed: 3.8ms preprocess, 61.9ms inference, 0.0ms loss, 118.1ms postprocess per image\n",
      "Results saved to \u001b[1mruns/detect/train45\u001b[0m\n",
      "Ultralytics 8.3.130 🚀 Python-3.9.6 torch-2.7.0 MPS (Apple M3 Pro)\n",
      "\u001b[34m\u001b[1mval: \u001b[0mFast image access ✅ (ping: 0.0±0.0 ms, read: 179.4±76.8 MB/s, size: 50.8 KB)\n"
     ]
    },
    {
     "name": "stderr",
     "output_type": "stream",
     "text": [
      "\u001b[34m\u001b[1mval: \u001b[0mScanning /Users/rudadadadada/multi/datasets/coco128/labels/train2017.cache... 126 images, 2 backgrounds, 0 corrupt: 100%|██████████| 128/128 [00:00<?, ?it/s]\n",
      "                 Class     Images  Instances      Box(P          R      mAP50  mAP50-95):  12%|█▎        | 1/8 [00:02<00:20,  2.91s/it]"
     ]
    },
    {
     "name": "stdout",
     "output_type": "stream",
     "text": [
      "WARNING ⚠️ NMS time limit 2.800s exceeded\n"
     ]
    },
    {
     "name": "stderr",
     "output_type": "stream",
     "text": [
      "                 Class     Images  Instances      Box(P          R      mAP50  mAP50-95):  25%|██▌       | 2/8 [00:11<00:38,  6.33s/it]"
     ]
    },
    {
     "name": "stdout",
     "output_type": "stream",
     "text": [
      "WARNING ⚠️ NMS time limit 2.800s exceeded\n"
     ]
    },
    {
     "name": "stderr",
     "output_type": "stream",
     "text": [
      "                 Class     Images  Instances      Box(P          R      mAP50  mAP50-95):  38%|███▊      | 3/8 [00:24<00:47,  9.46s/it]"
     ]
    },
    {
     "name": "stdout",
     "output_type": "stream",
     "text": [
      "WARNING ⚠️ NMS time limit 2.800s exceeded\n"
     ]
    },
    {
     "name": "stderr",
     "output_type": "stream",
     "text": [
      "                 Class     Images  Instances      Box(P          R      mAP50  mAP50-95):  50%|█████     | 4/8 [00:32<00:34,  8.61s/it]"
     ]
    },
    {
     "name": "stdout",
     "output_type": "stream",
     "text": [
      "WARNING ⚠️ NMS time limit 2.800s exceeded\n"
     ]
    },
    {
     "name": "stderr",
     "output_type": "stream",
     "text": [
      "                 Class     Images  Instances      Box(P          R      mAP50  mAP50-95):  62%|██████▎   | 5/8 [00:39<00:24,  8.21s/it]"
     ]
    },
    {
     "name": "stdout",
     "output_type": "stream",
     "text": [
      "WARNING ⚠️ NMS time limit 2.800s exceeded\n"
     ]
    },
    {
     "name": "stderr",
     "output_type": "stream",
     "text": [
      "                 Class     Images  Instances      Box(P          R      mAP50  mAP50-95):  88%|████████▊ | 7/8 [00:57<00:08,  8.44s/it]"
     ]
    },
    {
     "name": "stdout",
     "output_type": "stream",
     "text": [
      "WARNING ⚠️ NMS time limit 2.800s exceeded\n"
     ]
    },
    {
     "name": "stderr",
     "output_type": "stream",
     "text": [
      "                 Class     Images  Instances      Box(P          R      mAP50  mAP50-95): 100%|██████████| 8/8 [01:06<00:00,  8.27s/it]\n"
     ]
    },
    {
     "name": "stdout",
     "output_type": "stream",
     "text": [
      "                   all        128        929      0.807       0.65      0.708      0.581\n",
      "                person         61        254        0.9      0.706      0.833      0.654\n",
      "               bicycle          3          6      0.927      0.667       0.79      0.632\n",
      "                   car         12         46      0.883      0.327      0.577      0.317\n",
      "            motorcycle          4          5      0.868        0.8      0.805      0.686\n",
      "              airplane          5          6      0.987          1      0.995      0.914\n",
      "                   bus          5          7      0.717      0.571      0.789      0.666\n",
      "                 train          3          3      0.745      0.667      0.671      0.671\n",
      "                 truck          5         12      0.552      0.411      0.588      0.401\n",
      "                  boat          2          6          1       0.52      0.676      0.418\n",
      "         traffic light          4         14          1      0.354      0.486      0.308\n",
      "             stop sign          2          2      0.829          1      0.995      0.948\n",
      "                 bench          5          9      0.841      0.778      0.765      0.567\n",
      "                  bird          2         16      0.915        0.5      0.517      0.407\n",
      "                   cat          4          4      0.843       0.75      0.777      0.729\n",
      "                   dog          9          9      0.837      0.556      0.584      0.535\n",
      "                 horse          1          2      0.815          1      0.995      0.801\n",
      "              elephant          4         17      0.959      0.941      0.948      0.852\n",
      "                  bear          1          1      0.694          1      0.995      0.895\n",
      "                 zebra          2          4       0.88          1      0.995      0.995\n",
      "               giraffe          4          9       0.94          1      0.995      0.797\n",
      "              backpack          4          6          1      0.683      0.857      0.633\n",
      "              umbrella          4         18      0.904      0.944      0.955      0.735\n",
      "               handbag          9         19      0.678      0.445      0.512      0.383\n",
      "                   tie          6          7      0.819      0.571      0.774      0.638\n",
      "              suitcase          2          4      0.819          1      0.995      0.673\n",
      "               frisbee          5          5      0.729        0.6      0.618      0.598\n",
      "                  skis          1          1      0.733          1      0.995      0.895\n",
      "             snowboard          2          7      0.944      0.857       0.93       0.84\n",
      "           sports ball          6          6      0.644      0.667       0.61      0.462\n",
      "                  kite          2         10      0.759        0.3      0.452      0.132\n",
      "          baseball bat          4          4      0.503      0.507      0.687      0.465\n",
      "        baseball glove          4          7      0.558      0.429      0.522      0.361\n",
      "            skateboard          3          5      0.662      0.786      0.762      0.561\n",
      "         tennis racket          5          7      0.862      0.429      0.438      0.284\n",
      "                bottle          6         18      0.812       0.72      0.785      0.556\n",
      "            wine glass          5         16       0.81      0.798       0.91      0.639\n",
      "                   cup         10         36      0.817      0.496       0.56      0.391\n",
      "                  fork          6          6      0.524      0.373      0.503      0.323\n",
      "                 knife          7         16      0.923      0.812      0.865      0.621\n",
      "                 spoon          5         22      0.822      0.727      0.797      0.677\n",
      "                  bowl          9         28      0.767      0.643      0.722      0.604\n",
      "                banana          1          1       0.65          1      0.995      0.995\n",
      "              sandwich          2          2      0.693        0.5      0.523      0.523\n",
      "                orange          1          4          1          0          0          0\n",
      "              broccoli          4         11      0.826      0.434      0.496      0.342\n",
      "                carrot          3         24      0.812      0.708      0.799      0.605\n",
      "               hot dog          1          2          1          0          0          0\n",
      "                 pizza          5          5      0.769          1      0.995      0.875\n",
      "                 donut          2         14      0.684     0.0714      0.133      0.119\n",
      "                  cake          4          4      0.654        0.5      0.529      0.491\n",
      "                 chair          9         35      0.676      0.657      0.696      0.498\n",
      "                 couch          5          6      0.928          1      0.995      0.813\n",
      "          potted plant          9         14      0.869      0.643      0.738      0.583\n",
      "                   bed          3          3      0.682      0.333      0.345      0.345\n",
      "          dining table         10         13      0.914       0.82      0.823      0.758\n",
      "                toilet          2          2      0.784          1      0.995      0.897\n",
      "                    tv          2          2      0.783          1      0.995      0.946\n",
      "                laptop          2          3      0.621          1       0.83      0.705\n",
      "                 mouse          2          2          1          0      0.828      0.474\n",
      "                remote          5          8          1      0.721      0.773      0.677\n",
      "            cell phone          5          8      0.851      0.375      0.386      0.276\n",
      "             microwave          3          3      0.862          1      0.995      0.963\n",
      "                  oven          5          5       0.59       0.58      0.489      0.402\n",
      "                  sink          4          6      0.647      0.667      0.646      0.539\n",
      "          refrigerator          5          5      0.858        0.8      0.906      0.788\n",
      "                  book          6         29      0.624      0.459      0.638      0.436\n",
      "                 clock          8          9      0.887      0.778      0.868      0.765\n",
      "                  vase          2          2       0.68          1      0.995      0.995\n",
      "              scissors          1          1          1          0          0          0\n",
      "            teddy bear          6         21      0.944      0.381      0.435      0.377\n",
      "            toothbrush          2          5      0.804        0.4       0.42      0.378\n",
      "Speed: 2.9ms preprocess, 75.2ms inference, 0.0ms loss, 167.8ms postprocess per image\n",
      "Results saved to \u001b[1mruns/detect/train54\u001b[0m\n"
     ]
    }
   ],
   "source": [
    "metrics_cnn = cnn_model.val(data=data, imgsz=640, device=\"mps\").box\n",
    "metrics_tr  = transformer_model.val(data=data, imgsz=640, device=\"mps\").box"
   ]
  },
  {
   "cell_type": "code",
   "execution_count": 42,
   "metadata": {},
   "outputs": [
    {
     "name": "stdout",
     "output_type": "stream",
     "text": [
      "=== Сверточная YOLO ===\n",
      "Precision: 0.7667\n",
      "Recall   : 0.6716\n",
      "mAP50    : 0.7442\n",
      "mAP50-95 : 0.5808\n",
      "\n",
      "=== Трансформерная YOLO ===\n",
      "Precision: 0.8072\n",
      "Recall   : 0.6502\n",
      "mAP50    : 0.7083\n",
      "mAP50-95 : 0.5808\n"
     ]
    }
   ],
   "source": [
    "print(\"=== Сверточная YOLO ===\")\n",
    "print(f\"Precision: {metrics_cnn.p.mean():.4f}\")\n",
    "print(f\"Recall   : {metrics_cnn.r.mean():.4f}\")\n",
    "print(f\"mAP50    : {metrics_cnn.map50.mean():.4f}\")\n",
    "print(f\"mAP50-95 : {metrics_cnn.map.mean():.4f}\")\n",
    "\n",
    "print(\"\\n=== Трансформерная YOLO ===\")\n",
    "print(f\"Precision: {metrics_tr.p.mean():.4f}\")\n",
    "print(f\"Recall   : {metrics_tr.r.mean():.4f}\")\n",
    "print(f\"mAP50    : {metrics_tr.map50.mean():.4f}\")\n",
    "print(f\"mAP50-95 : {metrics_tr.map.mean():.4f}\")"
   ]
  },
  {
   "cell_type": "markdown",
   "metadata": {},
   "source": [
    "### 3. Улучшение бейзлайна\n",
    "\n",
    "**a. Сформулировать гипотезы**\n",
    "\n",
    "1. Аугментации данных:\n",
    "\n",
    "    Использование расширенного набора аугментаций (геометрические трансформации, цветовые преобразования, mosaic/コピー-paste augment, mixup, Random Erasing) увеличит обобщающую способность моделей.\n",
    "\n",
    "2. Подбор моделей:\n",
    "\n",
    "    Более крупные варианты моделей (например, YOLOv8x вместо YOLOv8m, YOLOv9c-xformer, YOLOv9e, YOLOv11-L/X), а также предпочтение более \"тяжёлых\" трансформерных моделей может улучшить результат.\n",
    "\n",
    "3. Подбор гиперпараметров обучения:\n",
    "    \n",
    "    Настройка learning_rate, batch_size, количества эпох, warmup, scheduler увеличит mAP и точность.\n",
    "\n",
    "4. Использование предобученных весов и transfer learning:\n",
    "    \n",
    "    Дообучение с хороших предобученных весов может ускорить и улучшить финальное качество.\n",
    "\n",
    "5. Использование дополнительных фичей Ultralytics (EMA, augmentation options, multi-scale, freeze_layers):\n",
    "    \n",
    "    Включение специальных опций влияет на итог."
   ]
  },
  {
   "cell_type": "markdown",
   "metadata": {},
   "source": [
    "**b. Проверить гипотезы**\n",
    "\n",
    "1. Установить расширенные аугментации через аргументы train/val в Ultralytics:\n",
    "\n",
    "2. Использовать более крупные/сильные веса моделей (YOLOv8x.pt, YOLOv8x6.pt, YOLOv9e.pt, YOLOv9c-xformer.pt, YOLOv11x-transformer.pt...)\n",
    "\n",
    "3. Настроить гиперпараметры: lr0=0.002, batch=16\n",
    "\n",
    "**c. Сформировать улучшенный бейзлайн по результатам**\n",
    "\n",
    "1. Улучшенный бейзлайн:\n",
    "\n",
    "2. Мощные модели (x или transformer-вариант)\n",
    "\n",
    "3. Расширенные аугментации\n",
    "\n",
    "4. Оптимальный lr/batch/scheduler\n",
    "\n",
    "**d. Обучить модели с улучшенным бейзлайном**"
   ]
  },
  {
   "cell_type": "code",
   "execution_count": 1,
   "metadata": {},
   "outputs": [
    {
     "name": "stderr",
     "output_type": "stream",
     "text": [
      "/Users/rudadadadada/Library/Python/3.9/lib/python/site-packages/urllib3/__init__.py:35: NotOpenSSLWarning: urllib3 v2 only supports OpenSSL 1.1.1+, currently the 'ssl' module is compiled with 'LibreSSL 2.8.3'. See: https://github.com/urllib3/urllib3/issues/3020\n",
      "  warnings.warn(\n"
     ]
    },
    {
     "name": "stdout",
     "output_type": "stream",
     "text": [
      "Ultralytics 8.3.130 🚀 Python-3.9.6 torch-2.7.0 MPS (Apple M3 Pro)\n",
      "\u001b[34m\u001b[1mengine/trainer: \u001b[0magnostic_nms=False, amp=True, augment=True, auto_augment=randaugment, batch=16, bgr=0.0, box=7.5, cache=False, cfg=None, classes=None, close_mosaic=10, cls=0.5, conf=None, copy_paste=0.0, copy_paste_mode=flip, cos_lr=False, cutmix=0.0, data=coco128.yaml, degrees=10, deterministic=True, device=mps, dfl=1.5, dnn=False, dropout=0.0, dynamic=False, embed=None, epochs=1, erasing=0.4, exist_ok=False, fliplr=0.5, flipud=0.0, format=torchscript, fraction=1.0, freeze=None, half=False, hsv_h=0.015, hsv_s=0.7, hsv_v=0.4, imgsz=640, int8=False, iou=0.7, keras=False, kobj=1.0, line_width=None, lr0=0.002, lrf=0.01, mask_ratio=4, max_det=300, mixup=0.2, mode=train, model=yolov8x.pt, momentum=0.937, mosaic=1.0, multi_scale=False, name=train7, nbs=64, nms=False, opset=None, optimize=False, optimizer=Adam, overlap_mask=True, patience=5, perspective=0.0, plots=True, pose=12.0, pretrained=True, profile=False, project=None, rect=False, resume=False, retina_masks=False, save=True, save_conf=False, save_crop=False, save_dir=runs/detect/train7, save_frames=False, save_json=False, save_period=-1, save_txt=False, scale=0.7, seed=0, shear=0.0, show=False, show_boxes=True, show_conf=True, show_labels=True, simplify=True, single_cls=False, source=None, split=val, stream_buffer=False, task=detect, time=None, tracker=botsort.yaml, translate=0.1, val=True, verbose=True, vid_stride=1, visualize=False, warmup_bias_lr=0.1, warmup_epochs=3.0, warmup_momentum=0.8, weight_decay=0.0005, workers=8, workspace=None\n",
      "\n",
      "                   from  n    params  module                                       arguments                     \n",
      "  0                  -1  1      2320  ultralytics.nn.modules.conv.Conv             [3, 80, 3, 2]                 \n",
      "  1                  -1  1    115520  ultralytics.nn.modules.conv.Conv             [80, 160, 3, 2]               \n",
      "  2                  -1  3    436800  ultralytics.nn.modules.block.C2f             [160, 160, 3, True]           \n",
      "  3                  -1  1    461440  ultralytics.nn.modules.conv.Conv             [160, 320, 3, 2]              \n",
      "  4                  -1  6   3281920  ultralytics.nn.modules.block.C2f             [320, 320, 6, True]           \n",
      "  5                  -1  1   1844480  ultralytics.nn.modules.conv.Conv             [320, 640, 3, 2]              \n",
      "  6                  -1  6  13117440  ultralytics.nn.modules.block.C2f             [640, 640, 6, True]           \n",
      "  7                  -1  1   3687680  ultralytics.nn.modules.conv.Conv             [640, 640, 3, 2]              \n",
      "  8                  -1  3   6969600  ultralytics.nn.modules.block.C2f             [640, 640, 3, True]           \n",
      "  9                  -1  1   1025920  ultralytics.nn.modules.block.SPPF            [640, 640, 5]                 \n",
      " 10                  -1  1         0  torch.nn.modules.upsampling.Upsample         [None, 2, 'nearest']          \n",
      " 11             [-1, 6]  1         0  ultralytics.nn.modules.conv.Concat           [1]                           \n",
      " 12                  -1  3   7379200  ultralytics.nn.modules.block.C2f             [1280, 640, 3]                \n",
      " 13                  -1  1         0  torch.nn.modules.upsampling.Upsample         [None, 2, 'nearest']          \n",
      " 14             [-1, 4]  1         0  ultralytics.nn.modules.conv.Concat           [1]                           \n",
      " 15                  -1  3   1948800  ultralytics.nn.modules.block.C2f             [960, 320, 3]                 \n",
      " 16                  -1  1    922240  ultralytics.nn.modules.conv.Conv             [320, 320, 3, 2]              \n",
      " 17            [-1, 12]  1         0  ultralytics.nn.modules.conv.Concat           [1]                           \n",
      " 18                  -1  3   7174400  ultralytics.nn.modules.block.C2f             [960, 640, 3]                 \n",
      " 19                  -1  1   3687680  ultralytics.nn.modules.conv.Conv             [640, 640, 3, 2]              \n",
      " 20             [-1, 9]  1         0  ultralytics.nn.modules.conv.Concat           [1]                           \n",
      " 21                  -1  3   7379200  ultralytics.nn.modules.block.C2f             [1280, 640, 3]                \n",
      " 22        [15, 18, 21]  1   8795008  ultralytics.nn.modules.head.Detect           [80, [320, 640, 640]]         \n",
      "Model summary: 209 layers, 68,229,648 parameters, 68,229,632 gradients, 258.5 GFLOPs\n",
      "\n",
      "Transferred 595/595 items from pretrained weights\n",
      "Freezing layer 'model.22.dfl.conv.weight'\n",
      "\u001b[34m\u001b[1mtrain: \u001b[0mFast image access ✅ (ping: 0.0±0.0 ms, read: 135.8±50.3 MB/s, size: 50.9 KB)\n"
     ]
    },
    {
     "name": "stderr",
     "output_type": "stream",
     "text": [
      "\u001b[34m\u001b[1mtrain: \u001b[0mScanning /Users/rudadadadada/multi/datasets/coco128/labels/train2017.cache... 126 images, 2 backgrounds, 0 corrupt: 100%|██████████| 128/128 [00:00<?, ?it/s]"
     ]
    },
    {
     "name": "stdout",
     "output_type": "stream",
     "text": [
      "\u001b[34m\u001b[1mval: \u001b[0mFast image access ✅ (ping: 0.0±0.0 ms, read: 122.0±52.9 MB/s, size: 52.5 KB)\n"
     ]
    },
    {
     "name": "stderr",
     "output_type": "stream",
     "text": [
      "\n",
      "\u001b[34m\u001b[1mval: \u001b[0mScanning /Users/rudadadadada/multi/datasets/coco128/labels/train2017.cache... 126 images, 2 backgrounds, 0 corrupt: 100%|██████████| 128/128 [00:00<?, ?it/s]\n"
     ]
    },
    {
     "name": "stdout",
     "output_type": "stream",
     "text": [
      "Plotting labels to runs/detect/train7/labels.jpg... \n",
      "\u001b[34m\u001b[1moptimizer:\u001b[0m Adam(lr=0.002, momentum=0.937) with parameter groups 97 weight(decay=0.0), 104 weight(decay=0.0005), 103 bias(decay=0.0)\n",
      "Image sizes 640 train, 640 val\n",
      "Using 0 dataloader workers\n",
      "Logging results to \u001b[1mruns/detect/train7\u001b[0m\n",
      "Starting training for 1 epochs...\n",
      "\n",
      "      Epoch    GPU_mem   box_loss   cls_loss   dfl_loss  Instances       Size\n"
     ]
    },
    {
     "name": "stderr",
     "output_type": "stream",
     "text": [
      "        1/1      29.1G      1.424      1.317       1.41        288        640: 100%|██████████| 8/8 [01:07<00:00,  8.39s/it]\n",
      "                 Class     Images  Instances      Box(P          R      mAP50  mAP50-95):   0%|          | 0/4 [00:00<?, ?it/s]"
     ]
    },
    {
     "name": "stdout",
     "output_type": "stream",
     "text": [
      "WARNING ⚠️ NMS time limit 3.600s exceeded\n"
     ]
    },
    {
     "name": "stderr",
     "output_type": "stream",
     "text": [
      "                 Class     Images  Instances      Box(P          R      mAP50  mAP50-95):  25%|██▌       | 1/4 [00:30<01:31, 30.39s/it]"
     ]
    },
    {
     "name": "stdout",
     "output_type": "stream",
     "text": [
      "WARNING ⚠️ NMS time limit 3.600s exceeded\n"
     ]
    },
    {
     "name": "stderr",
     "output_type": "stream",
     "text": [
      "                 Class     Images  Instances      Box(P          R      mAP50  mAP50-95):  50%|█████     | 2/4 [00:56<00:55, 27.95s/it]"
     ]
    },
    {
     "name": "stdout",
     "output_type": "stream",
     "text": [
      "WARNING ⚠️ NMS time limit 3.600s exceeded\n"
     ]
    },
    {
     "name": "stderr",
     "output_type": "stream",
     "text": [
      "                 Class     Images  Instances      Box(P          R      mAP50  mAP50-95):  75%|███████▌  | 3/4 [01:37<00:33, 33.83s/it]"
     ]
    },
    {
     "name": "stdout",
     "output_type": "stream",
     "text": [
      "WARNING ⚠️ NMS time limit 3.600s exceeded\n"
     ]
    },
    {
     "name": "stderr",
     "output_type": "stream",
     "text": [
      "                 Class     Images  Instances      Box(P          R      mAP50  mAP50-95): 100%|██████████| 4/4 [02:39<00:00, 39.94s/it]\n"
     ]
    },
    {
     "name": "stdout",
     "output_type": "stream",
     "text": [
      "                   all        128        929      0.601      0.148      0.178     0.0897\n",
      "\n",
      "1 epochs completed in 0.070 hours.\n",
      "Optimizer stripped from runs/detect/train7/weights/last.pt, 136.9MB\n",
      "Optimizer stripped from runs/detect/train7/weights/best.pt, 136.9MB\n",
      "\n",
      "Validating runs/detect/train7/weights/best.pt...\n",
      "Ultralytics 8.3.130 🚀 Python-3.9.6 torch-2.7.0 MPS (Apple M3 Pro)\n",
      "Model summary (fused): 112 layers, 68,200,608 parameters, 0 gradients, 257.8 GFLOPs\n"
     ]
    },
    {
     "name": "stderr",
     "output_type": "stream",
     "text": [
      "                 Class     Images  Instances      Box(P          R      mAP50  mAP50-95):   0%|          | 0/4 [00:00<?, ?it/s]"
     ]
    },
    {
     "name": "stdout",
     "output_type": "stream",
     "text": [
      "WARNING ⚠️ NMS time limit 3.600s exceeded\n"
     ]
    },
    {
     "name": "stderr",
     "output_type": "stream",
     "text": [
      "                 Class     Images  Instances      Box(P          R      mAP50  mAP50-95):  25%|██▌       | 1/4 [00:20<01:02, 20.83s/it]"
     ]
    },
    {
     "name": "stdout",
     "output_type": "stream",
     "text": [
      "WARNING ⚠️ NMS time limit 3.600s exceeded\n"
     ]
    },
    {
     "name": "stderr",
     "output_type": "stream",
     "text": [
      "                 Class     Images  Instances      Box(P          R      mAP50  mAP50-95):  50%|█████     | 2/4 [00:39<00:38, 19.32s/it]"
     ]
    },
    {
     "name": "stdout",
     "output_type": "stream",
     "text": [
      "WARNING ⚠️ NMS time limit 3.600s exceeded\n"
     ]
    },
    {
     "name": "stderr",
     "output_type": "stream",
     "text": [
      "                 Class     Images  Instances      Box(P          R      mAP50  mAP50-95):  75%|███████▌  | 3/4 [01:02<00:21, 21.26s/it]"
     ]
    },
    {
     "name": "stdout",
     "output_type": "stream",
     "text": [
      "WARNING ⚠️ NMS time limit 3.600s exceeded\n"
     ]
    },
    {
     "name": "stderr",
     "output_type": "stream",
     "text": [
      "                 Class     Images  Instances      Box(P          R      mAP50  mAP50-95): 100%|██████████| 4/4 [01:31<00:00, 22.88s/it]\n"
     ]
    },
    {
     "name": "stdout",
     "output_type": "stream",
     "text": [
      "                   all        128        929      0.658      0.071     0.0997     0.0534\n",
      "                person         61        254      0.467      0.154      0.179      0.113\n",
      "               bicycle          3          6          1          0      0.142     0.0285\n",
      "                   car         12         46          1          0     0.0137    0.00274\n",
      "            motorcycle          4          5          1          0          0          0\n",
      "              airplane          5          6      0.459      0.167      0.188     0.0705\n",
      "                   bus          5          7      0.352      0.143      0.153      0.122\n",
      "                 train          3          3          0          0          0          0\n",
      "                 truck          5         12          0          0          0          0\n",
      "                  boat          2          6          1          0          0          0\n",
      "         traffic light          4         14          1          0          0          0\n",
      "             stop sign          2          2          1          0          0          0\n",
      "                 bench          5          9          1          0          0          0\n",
      "                  bird          2         16          1          0          0          0\n",
      "                   cat          4          4          1          0          0          0\n",
      "                   dog          9          9          1          0          0          0\n",
      "                 horse          1          2          0          0          0          0\n",
      "              elephant          4         17       0.57      0.471      0.478       0.28\n",
      "                  bear          1          1          1          0          0          0\n",
      "                 zebra          2          4          1          0          0          0\n",
      "               giraffe          4          9      0.092      0.333       0.34      0.234\n",
      "              backpack          4          6          1          0          0          0\n",
      "              umbrella          4         18          0          0          0          0\n",
      "               handbag          9         19          0          0     0.0236     0.0109\n",
      "                   tie          6          7          1          0      0.184      0.147\n",
      "              suitcase          2          4          1          0          0          0\n",
      "               frisbee          5          5          1          0          0          0\n",
      "                  skis          1          1          1          0          0          0\n",
      "             snowboard          2          7          1      0.433      0.649      0.378\n",
      "           sports ball          6          6          1      0.315      0.433      0.221\n",
      "                  kite          2         10          1          0      0.224     0.0853\n",
      "          baseball bat          4          4          1          0      0.321     0.0321\n",
      "        baseball glove          4          7          1          0      0.216      0.108\n",
      "            skateboard          3          5          1          0          0          0\n",
      "         tennis racket          5          7      0.531      0.143      0.184      0.129\n",
      "                bottle          6         18      0.154      0.444      0.324      0.117\n",
      "            wine glass          5         16      0.292      0.312      0.216     0.0883\n",
      "                   cup         10         36      0.777      0.194      0.225       0.12\n",
      "                  fork          6          6          1          0          0          0\n",
      "                 knife          7         16      0.253      0.312      0.306      0.196\n",
      "                 spoon          5         22          0          0          0          0\n",
      "                  bowl          9         28      0.264     0.0357     0.0211     0.0169\n",
      "                banana          1          1          1          0          0          0\n",
      "              sandwich          2          2          1          0          0          0\n",
      "                orange          1          4          1          0          0          0\n",
      "              broccoli          4         11          1          0          0          0\n",
      "                carrot          3         24          1          0          0          0\n",
      "               hot dog          1          2          1          0          0          0\n",
      "                 pizza          5          5      0.125        0.2      0.202     0.0806\n",
      "                 donut          2         14          0          0          0          0\n",
      "                  cake          4          4      0.253       0.25      0.249      0.199\n",
      "                 chair          9         35      0.518      0.314      0.323      0.164\n",
      "                 couch          5          6          1          0          0          0\n",
      "          potted plant          9         14          0          0    0.00785   0.000785\n",
      "                   bed          3          3          1          0      0.337       0.27\n",
      "          dining table         10         13      0.419     0.0644      0.112     0.0344\n",
      "                toilet          2          2          0          0          0          0\n",
      "                    tv          2          2          0          0          0          0\n",
      "                laptop          2          3          1          0          0          0\n",
      "                 mouse          2          2          0          0          0          0\n",
      "                remote          5          8          1          0          0          0\n",
      "            cell phone          5          8          1          0          0          0\n",
      "             microwave          3          3          1          0      0.401      0.161\n",
      "                  oven          5          5      0.366        0.2      0.205      0.124\n",
      "                  sink          4          6          1          0          0          0\n",
      "          refrigerator          5          5       0.36        0.4      0.277      0.189\n",
      "                  book          6         29          1          0          0          0\n",
      "                 clock          8          9      0.412      0.111      0.125     0.0625\n",
      "                  vase          2          2          1          0          0          0\n",
      "              scissors          1          1          0          0          0          0\n",
      "            teddy bear          6         21     0.0347     0.0476     0.0142    0.00565\n",
      "            toothbrush          2          5          1          0          0          0\n",
      "Speed: 3.9ms preprocess, 429.5ms inference, 0.0ms loss, 141.7ms postprocess per image\n",
      "Results saved to \u001b[1mruns/detect/train7\u001b[0m\n",
      "Ultralytics 8.3.130 🚀 Python-3.9.6 torch-2.7.0 MPS (Apple M3 Pro)\n",
      "\u001b[34m\u001b[1mengine/trainer: \u001b[0magnostic_nms=False, amp=True, augment=True, auto_augment=randaugment, batch=16, bgr=0.0, box=7.5, cache=False, cfg=None, classes=None, close_mosaic=10, cls=0.5, conf=None, copy_paste=0.0, copy_paste_mode=flip, cos_lr=False, cutmix=0.0, data=coco128.yaml, degrees=10, deterministic=True, device=mps, dfl=1.5, dnn=False, dropout=0.0, dynamic=False, embed=None, epochs=1, erasing=0.4, exist_ok=False, fliplr=0.5, flipud=0.0, format=torchscript, fraction=1.0, freeze=None, half=False, hsv_h=0.015, hsv_s=0.7, hsv_v=0.4, imgsz=640, int8=False, iou=0.7, keras=False, kobj=1.0, line_width=None, lr0=0.002, lrf=0.01, mask_ratio=4, max_det=300, mixup=0.2, mode=train, model=yolov8x.pt, momentum=0.937, mosaic=1.0, multi_scale=False, name=train8, nbs=64, nms=False, opset=None, optimize=False, optimizer=Adam, overlap_mask=True, patience=5, perspective=0.0, plots=True, pose=12.0, pretrained=True, profile=False, project=None, rect=False, resume=False, retina_masks=False, save=True, save_conf=False, save_crop=False, save_dir=runs/detect/train8, save_frames=False, save_json=False, save_period=-1, save_txt=False, scale=0.7, seed=0, shear=0.0, show=False, show_boxes=True, show_conf=True, show_labels=True, simplify=True, single_cls=False, source=None, split=val, stream_buffer=False, task=detect, time=None, tracker=botsort.yaml, translate=0.1, val=True, verbose=True, vid_stride=1, visualize=False, warmup_bias_lr=0.1, warmup_epochs=3.0, warmup_momentum=0.8, weight_decay=0.0005, workers=8, workspace=None\n",
      "\n",
      "                   from  n    params  module                                       arguments                     \n",
      "  0                  -1  1      2320  ultralytics.nn.modules.conv.Conv             [3, 80, 3, 2]                 \n",
      "  1                  -1  1    115520  ultralytics.nn.modules.conv.Conv             [80, 160, 3, 2]               \n",
      "  2                  -1  3    436800  ultralytics.nn.modules.block.C2f             [160, 160, 3, True]           \n",
      "  3                  -1  1    461440  ultralytics.nn.modules.conv.Conv             [160, 320, 3, 2]              \n",
      "  4                  -1  6   3281920  ultralytics.nn.modules.block.C2f             [320, 320, 6, True]           \n",
      "  5                  -1  1   1844480  ultralytics.nn.modules.conv.Conv             [320, 640, 3, 2]              \n",
      "  6                  -1  6  13117440  ultralytics.nn.modules.block.C2f             [640, 640, 6, True]           \n",
      "  7                  -1  1   3687680  ultralytics.nn.modules.conv.Conv             [640, 640, 3, 2]              \n",
      "  8                  -1  3   6969600  ultralytics.nn.modules.block.C2f             [640, 640, 3, True]           \n",
      "  9                  -1  1   1025920  ultralytics.nn.modules.block.SPPF            [640, 640, 5]                 \n",
      " 10                  -1  1         0  torch.nn.modules.upsampling.Upsample         [None, 2, 'nearest']          \n",
      " 11             [-1, 6]  1         0  ultralytics.nn.modules.conv.Concat           [1]                           \n",
      " 12                  -1  3   7379200  ultralytics.nn.modules.block.C2f             [1280, 640, 3]                \n",
      " 13                  -1  1         0  torch.nn.modules.upsampling.Upsample         [None, 2, 'nearest']          \n",
      " 14             [-1, 4]  1         0  ultralytics.nn.modules.conv.Concat           [1]                           \n",
      " 15                  -1  3   1948800  ultralytics.nn.modules.block.C2f             [960, 320, 3]                 \n",
      " 16                  -1  1    922240  ultralytics.nn.modules.conv.Conv             [320, 320, 3, 2]              \n",
      " 17            [-1, 12]  1         0  ultralytics.nn.modules.conv.Concat           [1]                           \n",
      " 18                  -1  3   7174400  ultralytics.nn.modules.block.C2f             [960, 640, 3]                 \n",
      " 19                  -1  1   3687680  ultralytics.nn.modules.conv.Conv             [640, 640, 3, 2]              \n",
      " 20             [-1, 9]  1         0  ultralytics.nn.modules.conv.Concat           [1]                           \n",
      " 21                  -1  3   7379200  ultralytics.nn.modules.block.C2f             [1280, 640, 3]                \n",
      " 22        [15, 18, 21]  1   8795008  ultralytics.nn.modules.head.Detect           [80, [320, 640, 640]]         \n",
      "Model summary: 209 layers, 68,229,648 parameters, 68,229,632 gradients, 258.5 GFLOPs\n",
      "\n",
      "Transferred 595/595 items from pretrained weights\n",
      "Freezing layer 'model.22.dfl.conv.weight'\n",
      "\u001b[34m\u001b[1mtrain: \u001b[0mFast image access ✅ (ping: 0.0±0.0 ms, read: 169.7±53.7 MB/s, size: 50.9 KB)\n"
     ]
    },
    {
     "name": "stderr",
     "output_type": "stream",
     "text": [
      "\u001b[34m\u001b[1mtrain: \u001b[0mScanning /Users/rudadadadada/multi/datasets/coco128/labels/train2017.cache... 126 images, 2 backgrounds, 0 corrupt: 100%|██████████| 128/128 [00:00<?, ?it/s]"
     ]
    },
    {
     "name": "stdout",
     "output_type": "stream",
     "text": [
      "\u001b[34m\u001b[1mval: \u001b[0mFast image access ✅ (ping: 0.0±0.0 ms, read: 227.5±136.9 MB/s, size: 52.5 KB)\n"
     ]
    },
    {
     "name": "stderr",
     "output_type": "stream",
     "text": [
      "\n",
      "\u001b[34m\u001b[1mval: \u001b[0mScanning /Users/rudadadadada/multi/datasets/coco128/labels/train2017.cache... 126 images, 2 backgrounds, 0 corrupt: 100%|██████████| 128/128 [00:00<?, ?it/s]"
     ]
    },
    {
     "name": "stdout",
     "output_type": "stream",
     "text": [
      "Plotting labels to runs/detect/train8/labels.jpg... \n"
     ]
    },
    {
     "name": "stderr",
     "output_type": "stream",
     "text": [
      "\n"
     ]
    },
    {
     "name": "stdout",
     "output_type": "stream",
     "text": [
      "\u001b[34m\u001b[1moptimizer:\u001b[0m Adam(lr=0.002, momentum=0.937) with parameter groups 97 weight(decay=0.0), 104 weight(decay=0.0005), 103 bias(decay=0.0)\n",
      "Image sizes 640 train, 640 val\n",
      "Using 0 dataloader workers\n",
      "Logging results to \u001b[1mruns/detect/train8\u001b[0m\n",
      "Starting training for 1 epochs...\n",
      "\n",
      "      Epoch    GPU_mem   box_loss   cls_loss   dfl_loss  Instances       Size\n"
     ]
    },
    {
     "name": "stderr",
     "output_type": "stream",
     "text": [
      "        1/1      31.8G      1.424      1.317       1.41        288        640: 100%|██████████| 8/8 [19:04<00:00, 143.01s/it]\n",
      "                 Class     Images  Instances      Box(P          R      mAP50  mAP50-95):   0%|          | 0/4 [00:00<?, ?it/s]"
     ]
    },
    {
     "name": "stdout",
     "output_type": "stream",
     "text": [
      "WARNING ⚠️ NMS time limit 3.600s exceeded\n"
     ]
    },
    {
     "name": "stderr",
     "output_type": "stream",
     "text": [
      "                 Class     Images  Instances      Box(P          R      mAP50  mAP50-95):  25%|██▌       | 1/4 [00:53<02:41, 53.80s/it]"
     ]
    },
    {
     "name": "stdout",
     "output_type": "stream",
     "text": [
      "WARNING ⚠️ NMS time limit 3.600s exceeded\n"
     ]
    },
    {
     "name": "stderr",
     "output_type": "stream",
     "text": [
      "                 Class     Images  Instances      Box(P          R      mAP50  mAP50-95):  50%|█████     | 2/4 [01:50<01:51, 55.64s/it]"
     ]
    },
    {
     "name": "stdout",
     "output_type": "stream",
     "text": [
      "WARNING ⚠️ NMS time limit 3.600s exceeded\n"
     ]
    },
    {
     "name": "stderr",
     "output_type": "stream",
     "text": [
      "                 Class     Images  Instances      Box(P          R      mAP50  mAP50-95):  75%|███████▌  | 3/4 [02:54<00:59, 59.26s/it]"
     ]
    },
    {
     "name": "stdout",
     "output_type": "stream",
     "text": [
      "WARNING ⚠️ NMS time limit 3.600s exceeded\n"
     ]
    },
    {
     "name": "stderr",
     "output_type": "stream",
     "text": [
      "                 Class     Images  Instances      Box(P          R      mAP50  mAP50-95): 100%|██████████| 4/4 [03:45<00:00, 56.32s/it]\n"
     ]
    },
    {
     "name": "stdout",
     "output_type": "stream",
     "text": [
      "                   all        128        929        0.6     0.0414     0.0605     0.0296\n",
      "\n",
      "1 epochs completed in 0.387 hours.\n",
      "Optimizer stripped from runs/detect/train8/weights/last.pt, 136.9MB\n",
      "Optimizer stripped from runs/detect/train8/weights/best.pt, 136.9MB\n",
      "\n",
      "Validating runs/detect/train8/weights/best.pt...\n",
      "Ultralytics 8.3.130 🚀 Python-3.9.6 torch-2.7.0 MPS (Apple M3 Pro)\n",
      "Model summary (fused): 112 layers, 68,200,608 parameters, 0 gradients, 257.8 GFLOPs\n"
     ]
    },
    {
     "name": "stderr",
     "output_type": "stream",
     "text": [
      "                 Class     Images  Instances      Box(P          R      mAP50  mAP50-95):   0%|          | 0/4 [00:00<?, ?it/s]"
     ]
    },
    {
     "name": "stdout",
     "output_type": "stream",
     "text": [
      "WARNING ⚠️ NMS time limit 3.600s exceeded\n"
     ]
    },
    {
     "name": "stderr",
     "output_type": "stream",
     "text": [
      "                 Class     Images  Instances      Box(P          R      mAP50  mAP50-95):  25%|██▌       | 1/4 [00:24<01:14, 24.70s/it]"
     ]
    },
    {
     "name": "stdout",
     "output_type": "stream",
     "text": [
      "WARNING ⚠️ NMS time limit 3.600s exceeded\n"
     ]
    },
    {
     "name": "stderr",
     "output_type": "stream",
     "text": [
      "                 Class     Images  Instances      Box(P          R      mAP50  mAP50-95):  50%|█████     | 2/4 [00:37<00:35, 17.69s/it]"
     ]
    },
    {
     "name": "stdout",
     "output_type": "stream",
     "text": [
      "WARNING ⚠️ NMS time limit 3.600s exceeded\n"
     ]
    },
    {
     "name": "stderr",
     "output_type": "stream",
     "text": [
      "                 Class     Images  Instances      Box(P          R      mAP50  mAP50-95):  75%|███████▌  | 3/4 [01:01<00:20, 20.76s/it]"
     ]
    },
    {
     "name": "stdout",
     "output_type": "stream",
     "text": [
      "WARNING ⚠️ NMS time limit 3.600s exceeded\n"
     ]
    },
    {
     "name": "stderr",
     "output_type": "stream",
     "text": [
      "                 Class     Images  Instances      Box(P          R      mAP50  mAP50-95): 100%|██████████| 4/4 [01:43<00:00, 25.83s/it]\n"
     ]
    },
    {
     "name": "stdout",
     "output_type": "stream",
     "text": [
      "                   all        128        929      0.634     0.0487     0.0733     0.0387\n",
      "                person         61        254      0.402       0.13      0.142     0.0888\n",
      "               bicycle          3          6          1          0      0.142     0.0285\n",
      "                   car         12         46          1          0     0.0137    0.00274\n",
      "            motorcycle          4          5          1          0          0          0\n",
      "              airplane          5          6       0.42      0.167      0.191     0.0725\n",
      "                   bus          5          7      0.338      0.143      0.153      0.123\n",
      "                 train          3          3          0          0          0          0\n",
      "                 truck          5         12          0          0          0          0\n",
      "                  boat          2          6          1          0          0          0\n",
      "         traffic light          4         14          1          0          0          0\n",
      "             stop sign          2          2          1          0          0          0\n",
      "                 bench          5          9          1          0          0          0\n",
      "                  bird          2         16          1          0          0          0\n",
      "                   cat          4          4          1          0          0          0\n",
      "                   dog          9          9          1          0          0          0\n",
      "                 horse          1          2          0          0          0          0\n",
      "              elephant          4         17      0.546      0.471      0.478      0.279\n",
      "                  bear          1          1          1          0          0          0\n",
      "                 zebra          2          4          1          0          0          0\n",
      "               giraffe          4          9     0.0795      0.333       0.34      0.235\n",
      "              backpack          4          6          1          0          0          0\n",
      "              umbrella          4         18          1          0          0          0\n",
      "               handbag          9         19          0          0     0.0352     0.0185\n",
      "                   tie          6          7          1          0          0          0\n",
      "              suitcase          2          4          1          0          0          0\n",
      "               frisbee          5          5          1          0          0          0\n",
      "                  skis          1          1          1          0          0          0\n",
      "             snowboard          2          7      0.953      0.571      0.646      0.376\n",
      "           sports ball          6          6          1          0      0.211     0.0634\n",
      "                  kite          2         10          1          0      0.269      0.104\n",
      "          baseball bat          4          4          1          0       0.34      0.034\n",
      "        baseball glove          4          7          1          0      0.252      0.126\n",
      "            skateboard          3          5          1          0          0          0\n",
      "         tennis racket          5          7          0          0          0          0\n",
      "                bottle          6         18          0          0          0          0\n",
      "            wine glass          5         16          0          0          0          0\n",
      "                   cup         10         36      0.653      0.111      0.138     0.0774\n",
      "                  fork          6          6          0          0          0          0\n",
      "                 knife          7         16       0.22      0.312      0.308      0.198\n",
      "                 spoon          5         22          1          0          0          0\n",
      "                  bowl          9         28      0.346     0.0357     0.0296     0.0237\n",
      "                banana          1          1          1          0          0          0\n",
      "              sandwich          2          2          1          0          0          0\n",
      "                orange          1          4          1          0          0          0\n",
      "              broccoli          4         11          0          0          0          0\n",
      "                carrot          3         24          1          0          0          0\n",
      "               hot dog          1          2          1          0          0          0\n",
      "                 pizza          5          5      0.111        0.2      0.203     0.0812\n",
      "                 donut          2         14          0          0          0          0\n",
      "                  cake          4          4          1          0          0          0\n",
      "                 chair          9         35      0.454      0.343      0.329      0.167\n",
      "                 couch          5          6          1          0          0          0\n",
      "          potted plant          9         14          0          0          0          0\n",
      "                   bed          3          3          1          0      0.338      0.271\n",
      "          dining table         10         13      0.608      0.127      0.115     0.0356\n",
      "                toilet          2          2          0          0          0          0\n",
      "                    tv          2          2          0          0          0          0\n",
      "                laptop          2          3          1          0          0          0\n",
      "                 mouse          2          2          0          0          0          0\n",
      "                remote          5          8          1          0          0          0\n",
      "            cell phone          5          8          1          0          0          0\n",
      "             microwave          3          3          1          0          0          0\n",
      "                  oven          5          5      0.342        0.2      0.205      0.124\n",
      "                  sink          4          6          0          0          0          0\n",
      "          refrigerator          5          5      0.237        0.2      0.197      0.158\n",
      "                  book          6         29          1          0          0          0\n",
      "                 clock          8          9      0.325      0.111      0.129     0.0644\n",
      "                  vase          2          2          1          0          0          0\n",
      "              scissors          1          1          0          0          0          0\n",
      "            teddy bear          6         21          0          0          0          0\n",
      "            toothbrush          2          5          1          0          0          0\n",
      "Speed: 3.9ms preprocess, 573.3ms inference, 0.0ms loss, 129.0ms postprocess per image\n",
      "Results saved to \u001b[1mruns/detect/train8\u001b[0m\n"
     ]
    }
   ],
   "source": [
    "from ultralytics import YOLO\n",
    "\n",
    "# Сверточная модель\n",
    "cnn_model = YOLO('yolov8x.pt')\n",
    "results_cnn = cnn_model.train(\n",
    "    data='coco128.yaml',\n",
    "    epochs=1,\n",
    "    imgsz=640,\n",
    "    batch=16,\n",
    "    lr0=0.002,\n",
    "    optimizer='Adam',\n",
    "    augment=True,\n",
    "    mosaic=1.0,\n",
    "    mixup=0.2,\n",
    "    hsv_h=0.015, hsv_s=0.7, hsv_v=0.4,\n",
    "    degrees=10, scale=0.7,\n",
    "    patience=5,\n",
    "    device=\"mps\"\n",
    ")\n",
    "\n",
    "# Трансформерная модель\n",
    "tr_model = YOLO('yolov8x.pt')\n",
    "results_tr = tr_model.train(\n",
    "    data='coco128.yaml',\n",
    "    epochs=1,\n",
    "    imgsz=640,\n",
    "    batch=16,\n",
    "    lr0=0.002,\n",
    "    optimizer='Adam',\n",
    "    augment=True,\n",
    "    mosaic=1.0,\n",
    "    mixup=0.2,\n",
    "    hsv_h=0.015, hsv_s=0.7, hsv_v=0.4,\n",
    "    degrees=10, scale=0.7,\n",
    "    patience=5,\n",
    "    device=\"mps\"\n",
    ")\n"
   ]
  },
  {
   "cell_type": "code",
   "execution_count": 5,
   "metadata": {},
   "outputs": [
    {
     "name": "stdout",
     "output_type": "stream",
     "text": [
      "Ultralytics 8.3.130 🚀 Python-3.9.6 torch-2.7.0 MPS (Apple M3 Pro)\n",
      "\u001b[34m\u001b[1mval: \u001b[0mFast image access ✅ (ping: 0.0±0.0 ms, read: 255.1±186.1 MB/s, size: 59.7 KB)\n"
     ]
    },
    {
     "name": "stderr",
     "output_type": "stream",
     "text": [
      "\u001b[34m\u001b[1mval: \u001b[0mScanning /Users/rudadadadada/multi/datasets/coco128/labels/train2017.cache... 126 images, 2 backgrounds, 0 corrupt: 100%|██████████| 128/128 [00:00<?, ?it/s]\n",
      "                 Class     Images  Instances      Box(P          R      mAP50  mAP50-95):  12%|█▎        | 1/8 [00:07<00:55,  7.91s/it]"
     ]
    },
    {
     "name": "stdout",
     "output_type": "stream",
     "text": [
      "WARNING ⚠️ NMS time limit 2.800s exceeded\n"
     ]
    },
    {
     "name": "stderr",
     "output_type": "stream",
     "text": [
      "                 Class     Images  Instances      Box(P          R      mAP50  mAP50-95):  25%|██▌       | 2/8 [00:16<00:49,  8.21s/it]"
     ]
    },
    {
     "name": "stdout",
     "output_type": "stream",
     "text": [
      "WARNING ⚠️ NMS time limit 2.800s exceeded\n"
     ]
    },
    {
     "name": "stderr",
     "output_type": "stream",
     "text": [
      "                 Class     Images  Instances      Box(P          R      mAP50  mAP50-95):  38%|███▊      | 3/8 [00:29<00:52, 10.46s/it]"
     ]
    },
    {
     "name": "stdout",
     "output_type": "stream",
     "text": [
      "WARNING ⚠️ NMS time limit 2.800s exceeded\n"
     ]
    },
    {
     "name": "stderr",
     "output_type": "stream",
     "text": [
      "                 Class     Images  Instances      Box(P          R      mAP50  mAP50-95):  50%|█████     | 4/8 [00:41<00:45, 11.26s/it]"
     ]
    },
    {
     "name": "stdout",
     "output_type": "stream",
     "text": [
      "WARNING ⚠️ NMS time limit 2.800s exceeded\n"
     ]
    },
    {
     "name": "stderr",
     "output_type": "stream",
     "text": [
      "                 Class     Images  Instances      Box(P          R      mAP50  mAP50-95):  62%|██████▎   | 5/8 [00:49<00:30, 10.05s/it]"
     ]
    },
    {
     "name": "stdout",
     "output_type": "stream",
     "text": [
      "WARNING ⚠️ NMS time limit 2.800s exceeded\n"
     ]
    },
    {
     "name": "stderr",
     "output_type": "stream",
     "text": [
      "                 Class     Images  Instances      Box(P          R      mAP50  mAP50-95):  88%|████████▊ | 7/8 [01:10<00:10, 10.03s/it]"
     ]
    },
    {
     "name": "stdout",
     "output_type": "stream",
     "text": [
      "WARNING ⚠️ NMS time limit 2.800s exceeded\n"
     ]
    },
    {
     "name": "stderr",
     "output_type": "stream",
     "text": [
      "                 Class     Images  Instances      Box(P          R      mAP50  mAP50-95): 100%|██████████| 8/8 [01:20<00:00, 10.11s/it]\n"
     ]
    },
    {
     "name": "stdout",
     "output_type": "stream",
     "text": [
      "                   all        128        929      0.675      0.278      0.325      0.192\n",
      "                person         61        254      0.621      0.398      0.464      0.264\n",
      "               bicycle          3          6          1          0      0.112     0.0225\n",
      "                   car         12         46          1      0.132      0.295      0.148\n",
      "            motorcycle          4          5          1          0          0          0\n",
      "              airplane          5          6      0.944      0.833      0.837      0.505\n",
      "                   bus          5          7      0.655      0.714      0.708      0.532\n",
      "                 train          3          3      0.264      0.667      0.666      0.304\n",
      "                 truck          5         12      0.106     0.0833     0.0291     0.0156\n",
      "                  boat          2          6          1          0          0          0\n",
      "         traffic light          4         14          1          0     0.0307     0.0184\n",
      "             stop sign          2          2      0.608        0.5      0.745        0.5\n",
      "                 bench          5          9          1          0     0.0221     0.0155\n",
      "                  bird          2         16        0.5      0.937      0.698       0.32\n",
      "                   cat          4          4      0.203       0.25      0.333      0.144\n",
      "                   dog          9          9          1          0     0.0138    0.00746\n",
      "                 horse          1          2      0.223        0.5      0.195     0.0283\n",
      "              elephant          4         17      0.404      0.824      0.766      0.371\n",
      "                  bear          1          1          1          0      0.995      0.796\n",
      "                 zebra          2          4       0.63          1      0.995      0.788\n",
      "               giraffe          4          9       0.19      0.889      0.781      0.483\n",
      "              backpack          4          6          1          0     0.0897     0.0492\n",
      "              umbrella          4         18      0.303      0.889      0.628      0.257\n",
      "               handbag          9         19          1          0      0.129      0.069\n",
      "                   tie          6          7      0.548      0.286      0.495      0.236\n",
      "              suitcase          2          4          1          0     0.0206     0.0129\n",
      "               frisbee          5          5          1      0.363      0.415      0.208\n",
      "                  skis          1          1          1          0      0.249     0.0995\n",
      "             snowboard          2          7          1          0      0.613      0.357\n",
      "           sports ball          6          6      0.633        0.3      0.414      0.248\n",
      "                  kite          2         10          1          0      0.178     0.0628\n",
      "          baseball bat          4          4          1          0       0.28      0.028\n",
      "        baseball glove          4          7      0.429      0.143      0.234       0.15\n",
      "            skateboard          3          5          1          0     0.0717     0.0478\n",
      "         tennis racket          5          7      0.524      0.143      0.223      0.144\n",
      "                bottle          6         18       0.32      0.611      0.521      0.248\n",
      "            wine glass          5         16      0.333      0.438       0.38      0.197\n",
      "                   cup         10         36      0.702      0.262      0.391       0.21\n",
      "                  fork          6          6          1          0    0.00216   0.000433\n",
      "                 knife          7         16      0.327      0.312      0.382      0.233\n",
      "                 spoon          5         22      0.702      0.215      0.304       0.14\n",
      "                  bowl          9         28      0.704      0.171      0.375      0.211\n",
      "                banana          1          1      0.259          1      0.332      0.199\n",
      "              sandwich          2          2      0.519        0.5      0.497      0.397\n",
      "                orange          1          4          1          0          0          0\n",
      "              broccoli          4         11      0.546     0.0909      0.172      0.118\n",
      "                carrot          3         24          1          0      0.475      0.263\n",
      "               hot dog          1          2          1          0          0          0\n",
      "                 pizza          5          5      0.118        0.8      0.676      0.486\n",
      "                 donut          2         14      0.333      0.929       0.91      0.575\n",
      "                  cake          4          4       0.19       0.25      0.111     0.0884\n",
      "                 chair          9         35      0.585      0.229      0.295      0.145\n",
      "                 couch          5          6          1          0      0.256      0.237\n",
      "          potted plant          9         14      0.464      0.357      0.361       0.25\n",
      "                   bed          3          3          1          0     0.0193     0.0155\n",
      "          dining table         10         13      0.545     0.0977       0.21      0.176\n",
      "                toilet          2          2     0.0737        0.5       0.25      0.174\n",
      "                    tv          2          2          1          0          0          0\n",
      "                laptop          2          3      0.818      0.333       0.46      0.273\n",
      "                 mouse          2          2          1          0      0.103     0.0308\n",
      "                remote          5          8      0.787       0.25      0.329      0.179\n",
      "            cell phone          5          8          1          0          0          0\n",
      "             microwave          3          3          1          0      0.191     0.0765\n",
      "                  oven          5          5      0.267        0.2      0.229      0.138\n",
      "                  sink          4          6      0.434      0.167      0.168     0.0996\n",
      "          refrigerator          5          5      0.455        0.6      0.497      0.323\n",
      "                  book          6         29          1          0     0.0641     0.0336\n",
      "                 clock          8          9      0.585      0.778       0.79      0.441\n",
      "                  vase          2          2      0.891        0.5      0.499      0.399\n",
      "              scissors          1          1          1          0          0          0\n",
      "            teddy bear          6         21      0.194      0.286      0.102     0.0491\n",
      "            toothbrush          2          5          0          0          0          0\n",
      "Speed: 5.7ms preprocess, 209.8ms inference, 0.0ms loss, 182.4ms postprocess per image\n",
      "Results saved to \u001b[1mruns/detect/train73\u001b[0m\n",
      "Ultralytics 8.3.130 🚀 Python-3.9.6 torch-2.7.0 MPS (Apple M3 Pro)\n",
      "Model summary (fused): 112 layers, 68,200,608 parameters, 0 gradients, 257.8 GFLOPs\n",
      "\u001b[34m\u001b[1mval: \u001b[0mFast image access ✅ (ping: 0.0±0.0 ms, read: 193.3±103.1 MB/s, size: 67.3 KB)\n"
     ]
    },
    {
     "name": "stderr",
     "output_type": "stream",
     "text": [
      "\u001b[34m\u001b[1mval: \u001b[0mScanning /Users/rudadadadada/multi/datasets/coco128/labels/train2017.cache... 126 images, 2 backgrounds, 0 corrupt: 100%|██████████| 128/128 [00:00<?, ?it/s]\n",
      "                 Class     Images  Instances      Box(P          R      mAP50  mAP50-95):   0%|          | 0/8 [00:00<?, ?it/s]"
     ]
    },
    {
     "name": "stdout",
     "output_type": "stream",
     "text": [
      "WARNING ⚠️ NMS time limit 2.800s exceeded\n"
     ]
    },
    {
     "name": "stderr",
     "output_type": "stream",
     "text": [
      "                 Class     Images  Instances      Box(P          R      mAP50  mAP50-95):  12%|█▎        | 1/8 [00:10<01:16, 10.91s/it]"
     ]
    },
    {
     "name": "stdout",
     "output_type": "stream",
     "text": [
      "WARNING ⚠️ NMS time limit 2.800s exceeded\n"
     ]
    },
    {
     "name": "stderr",
     "output_type": "stream",
     "text": [
      "                 Class     Images  Instances      Box(P          R      mAP50  mAP50-95):  25%|██▌       | 2/8 [00:21<01:04, 10.72s/it]"
     ]
    },
    {
     "name": "stdout",
     "output_type": "stream",
     "text": [
      "WARNING ⚠️ NMS time limit 2.800s exceeded\n"
     ]
    },
    {
     "name": "stderr",
     "output_type": "stream",
     "text": [
      "                 Class     Images  Instances      Box(P          R      mAP50  mAP50-95):  38%|███▊      | 3/8 [00:31<00:51, 10.39s/it]"
     ]
    },
    {
     "name": "stdout",
     "output_type": "stream",
     "text": [
      "WARNING ⚠️ NMS time limit 2.800s exceeded\n"
     ]
    },
    {
     "name": "stderr",
     "output_type": "stream",
     "text": [
      "                 Class     Images  Instances      Box(P          R      mAP50  mAP50-95):  50%|█████     | 4/8 [00:41<00:41, 10.41s/it]"
     ]
    },
    {
     "name": "stdout",
     "output_type": "stream",
     "text": [
      "WARNING ⚠️ NMS time limit 2.800s exceeded\n"
     ]
    },
    {
     "name": "stderr",
     "output_type": "stream",
     "text": [
      "                 Class     Images  Instances      Box(P          R      mAP50  mAP50-95):  62%|██████▎   | 5/8 [00:54<00:33, 11.31s/it]"
     ]
    },
    {
     "name": "stdout",
     "output_type": "stream",
     "text": [
      "WARNING ⚠️ NMS time limit 2.800s exceeded\n"
     ]
    },
    {
     "name": "stderr",
     "output_type": "stream",
     "text": [
      "                 Class     Images  Instances      Box(P          R      mAP50  mAP50-95):  75%|███████▌  | 6/8 [01:05<00:22, 11.06s/it]"
     ]
    },
    {
     "name": "stdout",
     "output_type": "stream",
     "text": [
      "WARNING ⚠️ NMS time limit 2.800s exceeded\n"
     ]
    },
    {
     "name": "stderr",
     "output_type": "stream",
     "text": [
      "                 Class     Images  Instances      Box(P          R      mAP50  mAP50-95):  88%|████████▊ | 7/8 [01:19<00:11, 11.95s/it]"
     ]
    },
    {
     "name": "stdout",
     "output_type": "stream",
     "text": [
      "WARNING ⚠️ NMS time limit 2.800s exceeded\n"
     ]
    },
    {
     "name": "stderr",
     "output_type": "stream",
     "text": [
      "                 Class     Images  Instances      Box(P          R      mAP50  mAP50-95): 100%|██████████| 8/8 [01:33<00:00, 11.66s/it]\n"
     ]
    },
    {
     "name": "stdout",
     "output_type": "stream",
     "text": [
      "                   all        128        929       0.73      0.158      0.188      0.109\n",
      "                person         61        254      0.739      0.268      0.329      0.187\n",
      "               bicycle          3          6          1          0      0.124     0.0249\n",
      "                   car         12         46          1     0.0428      0.103     0.0535\n",
      "            motorcycle          4          5          1          0          0          0\n",
      "              airplane          5          6      0.803      0.333      0.348      0.196\n",
      "                   bus          5          7      0.701      0.571      0.551      0.429\n",
      "                 train          3          3      0.177      0.333      0.337      0.103\n",
      "                 truck          5         12          0          0     0.0066    0.00396\n",
      "                  boat          2          6          1          0          0          0\n",
      "         traffic light          4         14          1          0          0          0\n",
      "             stop sign          2          2          1          0          0          0\n",
      "                 bench          5          9          1          0          0          0\n",
      "                  bird          2         16          1          0          0          0\n",
      "                   cat          4          4      0.431       0.25      0.309      0.131\n",
      "                   dog          9          9          1          0     0.0133    0.00847\n",
      "                 horse          1          2      0.287        0.5      0.215     0.0363\n",
      "              elephant          4         17      0.659      0.529       0.57      0.321\n",
      "                  bear          1          1          1          0          0          0\n",
      "                 zebra          2          4      0.624       0.75      0.751      0.601\n",
      "               giraffe          4          9      0.208      0.556      0.504      0.366\n",
      "              backpack          4          6          1          0          0          0\n",
      "              umbrella          4         18       0.42      0.167      0.145     0.0625\n",
      "               handbag          9         19          1          0     0.0972     0.0539\n",
      "                   tie          6          7      0.634      0.143      0.287      0.127\n",
      "              suitcase          2          4          1          0     0.0103     0.0057\n",
      "               frisbee          5          5          1      0.348       0.42      0.211\n",
      "                  skis          1          1          1          0          0          0\n",
      "             snowboard          2          7          1          0      0.645      0.376\n",
      "           sports ball          6          6      0.619      0.286       0.47      0.269\n",
      "                  kite          2         10          1          0      0.221     0.0809\n",
      "          baseball bat          4          4          1          0      0.287     0.0287\n",
      "        baseball glove          4          7          1          0     0.0811     0.0406\n",
      "            skateboard          3          5          1          0          0          0\n",
      "         tennis racket          5          7      0.569      0.143      0.227      0.147\n",
      "                bottle          6         18      0.377        0.5      0.442      0.202\n",
      "            wine glass          5         16      0.334      0.312      0.377      0.197\n",
      "                   cup         10         36      0.861      0.173      0.345      0.171\n",
      "                  fork          6          6          1          0          0          0\n",
      "                 knife          7         16       0.42      0.312      0.292      0.199\n",
      "                 spoon          5         22      0.512     0.0455     0.0559     0.0364\n",
      "                  bowl          9         28      0.324     0.0357     0.0269     0.0223\n",
      "                banana          1          1      0.275          1      0.332      0.199\n",
      "              sandwich          2          2      0.564        0.5      0.498      0.398\n",
      "                orange          1          4          1          0          0          0\n",
      "              broccoli          4         11          1          0     0.0106    0.00423\n",
      "                carrot          3         24          1          0       0.13     0.0859\n",
      "               hot dog          1          2          1          0          0          0\n",
      "                 pizza          5          5      0.153        0.4        0.3      0.222\n",
      "                 donut          2         14          0          0          0          0\n",
      "                  cake          4          4      0.267       0.25      0.122     0.0976\n",
      "                 chair          9         35       0.66      0.167      0.279      0.137\n",
      "                 couch          5          6          1          0      0.252      0.235\n",
      "          potted plant          9         14      0.514      0.214      0.222      0.143\n",
      "                   bed          3          3          1          0     0.0269     0.0215\n",
      "          dining table         10         13      0.765     0.0769      0.191      0.149\n",
      "                toilet          2          2       0.11        0.5      0.251      0.175\n",
      "                    tv          2          2          1          0          0          0\n",
      "                laptop          2          3      0.925      0.333      0.487      0.286\n",
      "                 mouse          2          2          1          0      0.229     0.0686\n",
      "                remote          5          8      0.754      0.125      0.226      0.147\n",
      "            cell phone          5          8          1          0          0          0\n",
      "             microwave          3          3          1          0      0.201     0.0803\n",
      "                  oven          5          5      0.364        0.2      0.199      0.113\n",
      "                  sink          4          6      0.525      0.167      0.166     0.0996\n",
      "          refrigerator          5          5       0.49      0.388      0.296      0.217\n",
      "                  book          6         29          1          0     0.0621     0.0315\n",
      "                 clock          8          9      0.717      0.222       0.28      0.137\n",
      "                  vase          2          2          1          0          0          0\n",
      "              scissors          1          1          1          0          0          0\n",
      "            teddy bear          6         21     0.0601     0.0476     0.0167    0.00851\n",
      "            toothbrush          2          5          1          0          0          0\n",
      "Speed: 12.4ms preprocess, 258.9ms inference, 0.0ms loss, 198.5ms postprocess per image\n",
      "Results saved to \u001b[1mruns/detect/train82\u001b[0m\n"
     ]
    }
   ],
   "source": [
    "data = 'coco128.yaml'\n",
    "\n",
    "metrics_cnn = cnn_model.val(data=data, imgsz=640, device=\"mps\").box\n",
    "metrics_tr  = tr_model.val(data=data, imgsz=640, device=\"mps\").box"
   ]
  },
  {
   "cell_type": "code",
   "execution_count": 6,
   "metadata": {},
   "outputs": [
    {
     "name": "stdout",
     "output_type": "stream",
     "text": [
      "=== Улучшенная сверточная YOLO ===\n",
      "Precision: 0.6751\n",
      "Recall   : 0.2778\n",
      "mAP50    : 0.3251\n",
      "mAP50-95 : 0.1921\n",
      "\n",
      "=== Улучшенная трансформерная YOLO ===\n",
      "Precision: 0.7302\n",
      "Recall   : 0.1576\n",
      "mAP50    : 0.1883\n",
      "mAP50-95 : 0.1091\n"
     ]
    }
   ],
   "source": [
    "print(\"=== Улучшенная сверточная YOLO ===\")\n",
    "print(f\"Precision: {metrics_cnn.p.mean():.4f}\")\n",
    "print(f\"Recall   : {metrics_cnn.r.mean():.4f}\")\n",
    "print(f\"mAP50    : {metrics_cnn.map50.mean():.4f}\")\n",
    "print(f\"mAP50-95 : {metrics_cnn.map.mean():.4f}\")\n",
    "\n",
    "print(\"\\n=== Улучшенная трансформерная YOLO ===\")\n",
    "print(f\"Precision: {metrics_tr.p.mean():.4f}\")\n",
    "print(f\"Recall   : {metrics_tr.r.mean():.4f}\")\n",
    "print(f\"mAP50    : {metrics_tr.map50.mean():.4f}\")\n",
    "print(f\"mAP50-95 : {metrics_tr.map.mean():.4f}\")"
   ]
  },
  {
   "cell_type": "markdown",
   "metadata": {},
   "source": [
    "**g. Сделать выводы**\n",
    "\n",
    "1. В базовых настройках (без продвинутых аугментаций и подбора гиперпараметров) обе модели показали хорошие результаты:\n",
    "\n",
    "**Сверточная YOLO (YOLOv8m):**\n",
    "\n",
    "Precision: 0.77, Recall: 0.67, mAP50: 0.74, mAP50-95: 0.58\n",
    "\n",
    "**Трансформерная YOLO:**\n",
    "\n",
    "Precision: 0.81, Recall: 0.65, mAP50: 0.71, mAP50-95: 0.58\n",
    "\n",
    "2. Трансформерная модель опережает сверточную по precision и почти не уступает по mAP50/mAP50-95, хотя recall у неё немного ниже. Это может говорить о лучшей уверенности распознавания, при незначительном снижении полноты.\n",
    "\n",
    "3. После применения улучшенного бейзлайна (усиленные аугментации, другой lr, batch, другие параметры) и у сверточной, и у трансформерной модели отмечено существенное ухудшение всех показателей:\n",
    "\n",
    "Precision, Recall и mAP резко снизились до 0.1–0.7 (вдвое-втрое меньше, чем в базовой конфигурации). Думаю, что это связано с уменьшенным количеством эпох."
   ]
  },
  {
   "cell_type": "markdown",
   "metadata": {},
   "source": [
    "### 4. Имплементация алгоритма машинного обучения\n",
    "\n",
    "**a. Самостоятельно имплементировать модели машинного обучения**\n",
    "\n",
    "Так как классические ML не способны к bounding box detection \"в лоб\", разумно:\n",
    "\n",
    "Сделать простую модель по цвету/яркости: искать connected components/Blobs/Threshold и брать bounding box вокруг них, класс определять по средней яркости (или цвету)."
   ]
  },
  {
   "cell_type": "code",
   "execution_count": 7,
   "metadata": {},
   "outputs": [],
   "source": [
    "import cv2\n",
    "import numpy as np\n",
    "from PIL import Image\n",
    "\n",
    "def threshold_detector(img_PIL, threshold=128):\n",
    "    img_gray = img_PIL.convert('L')\n",
    "    img_np = np.array(img_gray)\n",
    "    # Простая бинаризация и поиск контуров\n",
    "    _, thresh = cv2.threshold(img_np, threshold, 255, cv2.THRESH_BINARY)\n",
    "    # Найдём контуры (cv2.RETR_EXTERNAL — только внешние)\n",
    "    contours, _ = cv2.findContours(thresh, cv2.RETR_EXTERNAL, cv2.CHAIN_APPROX_SIMPLE)\n",
    "    bboxes = []\n",
    "    for cnt in contours:\n",
    "        x, y, w, h = cv2.boundingRect(cnt)\n",
    "        bboxes.append([x, y, x+w, y+h, 0])\n",
    "    return bboxes"
   ]
  },
  {
   "cell_type": "markdown",
   "metadata": {},
   "source": [
    "**b. Обучение модели**"
   ]
  },
  {
   "cell_type": "code",
   "execution_count": 16,
   "metadata": {},
   "outputs": [],
   "source": [
    "from torchvision.datasets import VOCDetection\n",
    "\n",
    "val_set = VOCDetection('data', year='2012', image_set='val', download=True)\n",
    "\n",
    "detections = []\n",
    "gts = []\n",
    "\n",
    "for i in range(5000):\n",
    "    img, target = val_set[i]\n",
    "    bboxes_pred = threshold_detector(img)\n",
    "    # GT bbox извлекается из target['annotation']['object']\n",
    "    gt_boxes = []\n",
    "    objects = target['annotation']['object']\n",
    "    if not isinstance(objects, list):\n",
    "        objects = [objects]\n",
    "    for obj in objects:\n",
    "        bbox = obj['bndbox']\n",
    "        x1, y1 = int(float(bbox['xmin'])), int(float(bbox['ymin']))\n",
    "        x2, y2 = int(float(bbox['xmax'])), int(float(bbox['ymax']))\n",
    "        gt_boxes.append([x1, y1, x2, y2, 0])\n",
    "    detections.append(bboxes_pred)\n",
    "    gts.append(gt_boxes)\n"
   ]
  },
  {
   "cell_type": "markdown",
   "metadata": {},
   "source": [
    "**c. Оценить качество моделей по выбранным метрикам**\n",
    "\n",
    "Для object detection главная метрика — mAP, но для простых моделей часто используют IoU/Precision/Recall по фиксированному порогу.\n"
   ]
  },
  {
   "cell_type": "code",
   "execution_count": null,
   "metadata": {},
   "outputs": [
    {
     "name": "stdout",
     "output_type": "stream",
     "text": [
      "Classic ML Detector: Precision=0.301, Recall=0.242\n"
     ]
    }
   ],
   "source": [
    "def iou(boxA, boxB):\n",
    "    # [x1, y1, x2, y2, cl]\n",
    "    xA = max(boxA[0], boxB[0])\n",
    "    yA = max(boxA[1], boxB[1])\n",
    "    xB = min(boxA[2], boxB[2])\n",
    "    yB = min(boxA[3], boxB[3])\n",
    "    interArea = max(0, xB - xA) * max(0, yB - yA)\n",
    "    boxAArea = (boxA[2] - boxA[0]) * (boxA[3] - boxA[1])\n",
    "    boxBArea = (boxB[2] - boxB[0]) * (boxB[3] - boxB[1])\n",
    "    union = boxAArea + boxBArea - interArea\n",
    "    return interArea / union if union != 0 else 0\n",
    "\n",
    "def eval_detector(preds, gts, iou_thr=0.5):\n",
    "    TP, FP, FN = 0, 0, 0\n",
    "    for pred, gt in zip(preds, gts):\n",
    "        used = set()\n",
    "        for pb in pred:\n",
    "            found = False\n",
    "            for j, gb in enumerate(gt):\n",
    "                if j in used:\n",
    "                    continue\n",
    "                if iou(pb, gb) > iou_thr:\n",
    "                    TP += 1\n",
    "                    used.add(j)\n",
    "                    found = True\n",
    "                    break\n",
    "            if not found:\n",
    "                FP += 1\n",
    "        FN += len(gt) - len(used)\n",
    "    precision = TP / (TP+FP) if (TP+FP)>0 else 0\n",
    "    recall = TP / (TP+FN) if (TP+FN)>0 else 0\n",
    "    return precision, recall\n",
    "\n",
    "precision, recall = eval_detector(detections, gts)\n",
    "print(f\"Classic ML Detector: Precision={precision:.3f}, Recall={recall:.3f}\")\n"
   ]
  },
  {
   "cell_type": "markdown",
   "metadata": {},
   "source": [
    "**d. Сравнить с результатами**\n",
    "\n",
    "Видно, что классический ML метод показал сильно хуже себя. Разница в 0.4-0.5"
   ]
  },
  {
   "cell_type": "markdown",
   "metadata": {},
   "source": [
    "**e. Сделать выводы**\n",
    "\n",
    "1. Классические ML-методы, основанные на пороговой обработке и бинаризации, показывают очень низкую точность и полноту на реальных изображениях VOC, быстро теряясь на сложных сценах и в случае перекрытия объектов.\n",
    "\n",
    "2. Современные сверточные и трансформерные модели (Ultralytics YOLO) на том же наборе данных превосходят упрощённые методы на порядок, достигая высоких значений precision, recall и mAP."
   ]
  },
  {
   "cell_type": "markdown",
   "metadata": {},
   "source": [
    "**f/g. Добавить техники из улучшенного бейзлайна (пункт 3с) и обучить модель**"
   ]
  },
  {
   "cell_type": "code",
   "execution_count": 19,
   "metadata": {},
   "outputs": [],
   "source": [
    "import cv2\n",
    "import numpy as np\n",
    "\n",
    "def improved_threshold_detector(img_PIL):\n",
    "    # Сглаживание\n",
    "    img_np = np.array(img_PIL.convert('L'))\n",
    "    img_np = cv2.GaussianBlur(img_np, (5,5), 0)\n",
    "    # Адаптивный порог\n",
    "    thresh = cv2.adaptiveThreshold(img_np, 255,\n",
    "                                   cv2.ADAPTIVE_THRESH_GAUSSIAN_C,\n",
    "                                   cv2.THRESH_BINARY, 11, 2)\n",
    "    # Поиск контуров\n",
    "    contours, _ = cv2.findContours(thresh, cv2.RETR_EXTERNAL, cv2.CHAIN_APPROX_SIMPLE)\n",
    "    bboxes = []\n",
    "    for cnt in contours:\n",
    "        x, y, w, h = cv2.boundingRect(cnt)\n",
    "        if w*h > 400 and w > 10 and h > 10:\n",
    "            bboxes.append([x, y, x+w, y+h, 0])\n",
    "    return bboxes"
   ]
  },
  {
   "cell_type": "code",
   "execution_count": 20,
   "metadata": {},
   "outputs": [],
   "source": [
    "detections_improved = []\n",
    "for i in range(5000):\n",
    "    img, target = val_set[i]\n",
    "    bboxes_pred = improved_threshold_detector(img)\n",
    "    detections_improved.append(bboxes_pred)"
   ]
  },
  {
   "cell_type": "code",
   "execution_count": null,
   "metadata": {},
   "outputs": [
    {
     "name": "stdout",
     "output_type": "stream",
     "text": [
      "Improved ML Detector: Precision=0.290, Recall=0.301\n"
     ]
    }
   ],
   "source": [
    "precision_imp, recall_imp = eval_detector(detections_improved, gts)\n",
    "print(f\"Improved ML Detector: Precision={precision_imp:.3f}, Recall={recall_imp:.3f}\")"
   ]
  },
  {
   "cell_type": "markdown",
   "metadata": {},
   "source": [
    "**i. Сравнить результаты моделей в сравнении с результатами из пункта 3**\n",
    "\n",
    "Здесь также видна разница между классическим ML и YOLO"
   ]
  },
  {
   "cell_type": "markdown",
   "metadata": {},
   "source": [
    "**j. Сделать выводы**\n",
    "\n",
    "1. Улучшение классического ML-метода (за счет сглаживания, умного порога и фильтрации) не дало особых результатом.\n",
    "\n",
    "2. Классический ML уступает современным сверточным и трансформерным моделям YOLO, как по абсолютным показателям, так и по устойчивости на реальных изображениях.\n",
    "\n",
    "3. В реальных задачах даже сложные эвристики быстро перестают работать при изменении условий съёмки, тогда как глубокие модели способны обучаться обобщённым признакам, устойчивым к шуму, свету, ракурсу и росту сложности сцены."
   ]
  },
  {
   "cell_type": "markdown",
   "metadata": {},
   "source": [
    "Итог:\n",
    "\n",
    "| Модель                        | Precision | Recall  | mAP50  | mAP50-95 |\n",
    "|-------------------------------|-----------|---------|--------|----------|\n",
    "| Сверточная YOLO               | 0.7667    | 0.6716  | 0.7442 | 0.5808   |\n",
    "| Трансформерная YOLO           | 0.8072    | 0.6502  | 0.7083 | 0.5808   |\n",
    "| Улучшенная сверточная YOLO    | 0.6751    | 0.2778  | 0.3251 | 0.1921   |\n",
    "| Улучшенная трансформерная YOLO| 0.7302    | 0.1576  | 0.1883 | 0.1091   |\n",
    "| Classic ML Detector           | 0.3010    | 0.2420  |   —    |    —     |\n",
    "| Improved ML Detector          | 0.2900    | 0.3010  |   —    |    —     |"
   ]
  }
 ],
 "metadata": {
  "kernelspec": {
   "display_name": "Python 3",
   "language": "python",
   "name": "python3"
  },
  "language_info": {
   "codemirror_mode": {
    "name": "ipython",
    "version": 3
   },
   "file_extension": ".py",
   "mimetype": "text/x-python",
   "name": "python",
   "nbconvert_exporter": "python",
   "pygments_lexer": "ipython3",
   "version": "3.9.6"
  }
 },
 "nbformat": 4,
 "nbformat_minor": 2
}
